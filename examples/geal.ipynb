{
 "metadata": {
  "language_info": {
   "codemirror_mode": {
    "name": "ipython",
    "version": 3
   },
   "file_extension": ".py",
   "mimetype": "text/x-python",
   "name": "python",
   "nbconvert_exporter": "python",
   "pygments_lexer": "ipython3",
   "version": "3.7.3"
  },
  "orig_nbformat": 2,
  "kernelspec": {
   "name": "python3",
   "display_name": "Python 3",
   "language": "python"
  }
 },
 "nbformat": 4,
 "nbformat_minor": 2,
 "cells": [
  {
   "source": [
    "# Base functions"
   ],
   "cell_type": "markdown",
   "metadata": {}
  },
  {
   "cell_type": "code",
   "execution_count": 1,
   "metadata": {},
   "outputs": [],
   "source": [
    "import numpy as np \n",
    "from evalkit.basic import Indvdl, Population, TaskType\n",
    "\n",
    "#create description\n",
    "description = {\"Name1\":{\"quantity\":[1], \"values\":[[0,1]]},\n",
    "               \"Name2\":{\"quantity\":[1,2,3,4,5], \"values\":[[0, 1],[0, 1]]}\n",
    "               }\n",
    "#fitness function\n",
    "def allone(indvdl):\n",
    "    count_values = 0\n",
    "    sum_values = 0\n",
    "    for key in indvdl.keys():\n",
    "        count_values += np.array(indvdl[key]).size\n",
    "        sum_values += np.sum(indvdl[key])\n",
    "    return sum_values/count_values"
   ]
  },
  {
   "cell_type": "code",
   "execution_count": 2,
   "metadata": {},
   "outputs": [
    {
     "output_type": "execute_result",
     "data": {
      "text/plain": [
       "[{'Name1': [[1]], 'Name2': [[0, 1], [0, 0]]},\n",
       " {'Name1': [[0]], 'Name2': [[0, 0], [1, 0], [1, 1], [1, 1]]},\n",
       " {'Name1': [[0]], 'Name2': [[0, 0], [0, 0], [1, 0]]},\n",
       " {'Name1': [[1]], 'Name2': [[1, 1]]},\n",
       " {'Name1': [[1]], 'Name2': [[0, 0], [1, 1]]},\n",
       " {'Name1': [[1]], 'Name2': [[1, 0]]},\n",
       " {'Name1': [[0]], 'Name2': [[0, 0], [0, 1], [1, 0]]},\n",
       " {'Name1': [[1]], 'Name2': [[1, 1], [1, 0], [1, 1], [0, 1], [0, 0]]},\n",
       " {'Name1': [[0]], 'Name2': [[0, 1], [1, 1], [0, 1]]},\n",
       " {'Name1': [[1]], 'Name2': [[0, 1], [1, 0], [0, 0], [0, 1], [1, 1]]}]"
      ]
     },
     "metadata": {},
     "execution_count": 2
    }
   ],
   "source": [
    "from evalkit.geal import inits\n",
    "\n",
    "#create conteiner of population\n",
    "pop = Population(description=description, evaluate=allone, fitness_target = 0.9)\n",
    "#create a population of 10 individuals.\n",
    "pop += inits.initRandom(pop.description,size=10)\n",
    "# evaluate indidivuals\n",
    "pop.run_evaluate()\n",
    "pop"
   ]
  },
  {
   "cell_type": "code",
   "execution_count": 3,
   "metadata": {},
   "outputs": [
    {
     "output_type": "execute_result",
     "data": {
      "text/plain": [
       "[{'Name1': [[0]], 'Name2': [[0, 1], [1, 1], [0, 1]]}]"
      ]
     },
     "metadata": {},
     "execution_count": 3
    }
   ],
   "source": [
    "from evalkit.geal import sels\n",
    "\n",
    "#run tournament selection\n",
    "indvdls = np.random.choice(pop, size=3)\n",
    "sel_indvdls = sels.selTournament(indvdls, pop.fitness_target, pop.task_type )\n",
    "pop += sel_indvdls\n",
    "sel_indvdls"
   ]
  },
  {
   "cell_type": "code",
   "execution_count": 4,
   "metadata": {},
   "outputs": [
    {
     "output_type": "stream",
     "name": "stdout",
     "text": [
      "individual0 = {'Name1': [[1]], 'Name2': [[0, 1], [0, 0]]}\nindividual1 = {'Name1': [[0]], 'Name2': [[0, 0], [1, 0], [1, 1], [1, 1]]}\nindividual0 = {'Name1': [[0]], 'Name2': [[0, 0], [0, 0]]}\nindividual1 = {'Name1': [[1]], 'Name2': [[0, 1], [1, 0], [1, 1], [1, 1]]}\n"
     ]
    }
   ],
   "source": [
    "from evalkit.geal import cross\n",
    "\n",
    "#crossover individual 0 and individual 1\n",
    "print(f\"individual0 = {pop[0]}\")\n",
    "print(f\"individual1 = {pop[1]}\")\n",
    "pop[0], pop[1] = cross.crosOnePoint(pop[0],pop[1])\n",
    "print(f\"individual0 = {pop[0]}\")\n",
    "print(f\"individual1 = {pop[1]}\")"
   ]
  },
  {
   "cell_type": "code",
   "execution_count": 5,
   "metadata": {},
   "outputs": [
    {
     "output_type": "stream",
     "name": "stdout",
     "text": [
      "individual =  {'Name1': [[0]], 'Name2': [[0, 0], [0, 0]]}\nmut_indvdl =  [{'Name1': [[0]], 'Name2': [[0, 0], [0, 1]]}]\n"
     ]
    }
   ],
   "source": [
    "from evalkit.geal import muts\n",
    "\n",
    "#mutate individual 0\n",
    "print(\"individual = \", pop[0])\n",
    "mut_indvdl = muts.mutRand(pop[3], pop.description, sel_keys=\"rand\")\n",
    "print(\"mut_indvdl = \", mut_indvdl)"
   ]
  },
  {
   "source": [
    "# Algorithms"
   ],
   "cell_type": "markdown",
   "metadata": {}
  },
  {
   "cell_type": "code",
   "execution_count": 6,
   "metadata": {},
   "outputs": [],
   "source": [
    "from evalkit.geal import algs\n",
    "from evalkit.tools.statslog import StatsLog\n",
    "import numpy as np\n",
    "import time\n",
    "import plotly.express as pe\n",
    "\n",
    "\n",
    "\n",
    "\n",
    "# Create statslog functions\n",
    "def pop_len(pop):\n",
    "    return len(pop)\n",
    "\n",
    "def avg_time(pop):\n",
    "    array_times = [ pop[indvdl_indx].evaltime for indvdl_indx in range(len(pop)) ]\n",
    "    return np.sum(array_times)/len(array_times)\n",
    "\n",
    "def std_fit(pop):\n",
    "    fitnesses = [ pop[indvdl_indx].fitness for indvdl_indx in range(len(pop)) ]\n",
    "    return np.std(fitnesses)\n",
    "\n",
    "def min_fit(pop):\n",
    "    fitnesses = [ pop[indvdl_indx].fitness for indvdl_indx in range(len(pop)) ]\n",
    "    return np.min(fitnesses)\n",
    "\n",
    "def max_fit(pop):\n",
    "    fitnesses = [ pop[indvdl_indx].fitness for indvdl_indx in range(len(pop)) ]\n",
    "    return np.max(fitnesses)\n",
    "\n",
    "def best_indvdls(pop):\n",
    "    return pop.best_indvdls()"
   ]
  },
  {
   "source": [
    "# Min algorithm"
   ],
   "cell_type": "markdown",
   "metadata": {}
  },
  {
   "cell_type": "code",
   "execution_count": 7,
   "metadata": {},
   "outputs": [
    {
     "output_type": "error",
     "ename": "AttributeError",
     "evalue": "'StatsLog' object has no attribute '_StatsLog__doc'",
     "traceback": [
      "\u001b[0;31m---------------------------------------------------------------------------\u001b[0m",
      "\u001b[0;31mAttributeError\u001b[0m                            Traceback (most recent call last)",
      "\u001b[0;32m<ipython-input-7-77994c7c0a76>\u001b[0m in \u001b[0;36m<module>\u001b[0;34m\u001b[0m\n\u001b[1;32m     14\u001b[0m \u001b[0;34m\u001b[0m\u001b[0m\n\u001b[1;32m     15\u001b[0m \u001b[0;31m#create statslog\u001b[0m\u001b[0;34m\u001b[0m\u001b[0;34m\u001b[0m\u001b[0;34m\u001b[0m\u001b[0m\n\u001b[0;32m---> 16\u001b[0;31m \u001b[0msl\u001b[0m \u001b[0;34m=\u001b[0m \u001b[0mStatsLog\u001b[0m\u001b[0;34m(\u001b[0m\u001b[0mfuncs\u001b[0m\u001b[0;34m=\u001b[0m\u001b[0;34m[\u001b[0m\u001b[0mpop_len\u001b[0m\u001b[0;34m,\u001b[0m \u001b[0mavg_time\u001b[0m\u001b[0;34m,\u001b[0m \u001b[0mstd_fit\u001b[0m\u001b[0;34m,\u001b[0m \u001b[0mmin_fit\u001b[0m\u001b[0;34m,\u001b[0m \u001b[0mmax_fit\u001b[0m\u001b[0;34m,\u001b[0m \u001b[0mbest_indvdls\u001b[0m\u001b[0;34m]\u001b[0m\u001b[0;34m,\u001b[0m \u001b[0mviznt_funcs\u001b[0m\u001b[0;34m=\u001b[0m\u001b[0;34m[\u001b[0m\u001b[0mbest_indvdls\u001b[0m\u001b[0;34m]\u001b[0m\u001b[0;34m,\u001b[0m \u001b[0mpath\u001b[0m\u001b[0;34m=\u001b[0m\u001b[0;34m\"/home/teacup/data.csv\"\u001b[0m\u001b[0;34m)\u001b[0m\u001b[0;34m\u001b[0m\u001b[0;34m\u001b[0m\u001b[0m\n\u001b[0m\u001b[1;32m     17\u001b[0m \u001b[0;34m\u001b[0m\u001b[0m\n\u001b[1;32m     18\u001b[0m \u001b[0;31m#start algorithm randwhilefalse\u001b[0m\u001b[0;34m\u001b[0m\u001b[0;34m\u001b[0m\u001b[0;34m\u001b[0m\u001b[0m\n",
      "\u001b[0;32m~/.local/lib/python3.7/site-packages/evalkit/tools/statslog.py\u001b[0m in \u001b[0;36m__init__\u001b[0;34m(self, funcs, spaces, viznt_funcs, path)\u001b[0m\n\u001b[1;32m     20\u001b[0m         \u001b[0mself\u001b[0m\u001b[0;34m.\u001b[0m\u001b[0mviznt_funcs\u001b[0m \u001b[0;34m=\u001b[0m \u001b[0mviznt_funcs\u001b[0m\u001b[0;34m\u001b[0m\u001b[0;34m\u001b[0m\u001b[0m\n\u001b[1;32m     21\u001b[0m         \u001b[0mself\u001b[0m\u001b[0;34m.\u001b[0m\u001b[0mspaces\u001b[0m \u001b[0;34m=\u001b[0m \u001b[0mspaces\u001b[0m\u001b[0;34m\u001b[0m\u001b[0;34m\u001b[0m\u001b[0m\n\u001b[0;32m---> 22\u001b[0;31m         \u001b[0mself\u001b[0m\u001b[0;34m.\u001b[0m\u001b[0mheaders\u001b[0m \u001b[0;34m=\u001b[0m \u001b[0mself\u001b[0m\u001b[0;34m.\u001b[0m\u001b[0m__create_headers\u001b[0m\u001b[0;34m(\u001b[0m\u001b[0;34m)\u001b[0m\u001b[0;34m\u001b[0m\u001b[0;34m\u001b[0m\u001b[0m\n\u001b[0m\u001b[1;32m     23\u001b[0m         \u001b[0mself\u001b[0m\u001b[0;34m.\u001b[0m\u001b[0mlog\u001b[0m \u001b[0;34m=\u001b[0m \u001b[0;34m{\u001b[0m\u001b[0;34m}\u001b[0m\u001b[0;34m\u001b[0m\u001b[0;34m\u001b[0m\u001b[0m\n\u001b[1;32m     24\u001b[0m         \u001b[0mself\u001b[0m\u001b[0;34m.\u001b[0m\u001b[0m__gen\u001b[0m \u001b[0;34m=\u001b[0m \u001b[0;36m0\u001b[0m\u001b[0;34m\u001b[0m\u001b[0;34m\u001b[0m\u001b[0m\n",
      "\u001b[0;32m~/.local/lib/python3.7/site-packages/evalkit/tools/statslog.py\u001b[0m in \u001b[0;36m__create_headers\u001b[0;34m(self)\u001b[0m\n\u001b[1;32m     63\u001b[0m             \u001b[0;32mif\u001b[0m \u001b[0mfunc\u001b[0m\u001b[0;34m.\u001b[0m\u001b[0m__name__\u001b[0m \u001b[0;32mnot\u001b[0m \u001b[0;32min\u001b[0m \u001b[0;34m[\u001b[0m \u001b[0mfunc\u001b[0m\u001b[0;34m.\u001b[0m\u001b[0m__name__\u001b[0m \u001b[0;32mfor\u001b[0m \u001b[0mfunc\u001b[0m \u001b[0;32min\u001b[0m \u001b[0mself\u001b[0m\u001b[0;34m.\u001b[0m\u001b[0mviznt_funcs\u001b[0m \u001b[0;34m]\u001b[0m\u001b[0;34m:\u001b[0m\u001b[0;34m\u001b[0m\u001b[0;34m\u001b[0m\u001b[0m\n\u001b[1;32m     64\u001b[0m                 \u001b[0mstr_headers\u001b[0m \u001b[0;34m+=\u001b[0m \u001b[0mfunc\u001b[0m\u001b[0;34m.\u001b[0m\u001b[0m__name__\u001b[0m \u001b[0;34m+\u001b[0m \u001b[0;34m\"|\"\u001b[0m \u001b[0;34m+\u001b[0m \u001b[0mself\u001b[0m\u001b[0;34m.\u001b[0m\u001b[0mspaces\u001b[0m\u001b[0;34m\u001b[0m\u001b[0;34m\u001b[0m\u001b[0m\n\u001b[0;32m---> 65\u001b[0;31m         \u001b[0mself\u001b[0m\u001b[0;34m.\u001b[0m\u001b[0m__doc\u001b[0m\u001b[0;34m.\u001b[0m\u001b[0mwrite\u001b[0m\u001b[0;34m(\u001b[0m\u001b[0mstr_headers\u001b[0m\u001b[0;34m+\u001b[0m\u001b[0;34m\"\\n\"\u001b[0m\u001b[0;34m)\u001b[0m\u001b[0;34m\u001b[0m\u001b[0;34m\u001b[0m\u001b[0m\n\u001b[0m\u001b[1;32m     66\u001b[0m         \u001b[0;32mreturn\u001b[0m \u001b[0mstr_headers\u001b[0m\u001b[0;34m\u001b[0m\u001b[0;34m\u001b[0m\u001b[0m\n",
      "\u001b[0;31mAttributeError\u001b[0m: 'StatsLog' object has no attribute '_StatsLog__doc'"
     ]
    }
   ],
   "source": [
    "def condition1(indvdl):\n",
    "    pass\n",
    "\n",
    "def condition2(indvdl):\n",
    "    pass\n",
    "\n",
    "description = {\"Name1\":{\"quantity\":[1], \"values\":[[0,1]], \"conditions\":[[]]},\n",
    "               \"Name2\":{\"quantity\":range(1,100), \"values\":[[0, 1],[0, 1], [0,1], [0,1]], \"condition\":[[]]}\n",
    "               }\n",
    "\n",
    "pop_size=20\n",
    "pop = Population(description=description, evaluate=allone, fitness_target = 0, task_type=TaskType.MIN)\n",
    "pop.extend( inits.initRandom(pop.description,size=pop_size) )\n",
    "\n",
    "#create statslog\n",
    "sl = StatsLog(funcs=[pop_len, avg_time, std_fit, min_fit, max_fit, best_indvdls], viznt_funcs=[best_indvdls])\n",
    "\n",
    "#start algorithm randwhilefalse\n",
    "sel_size = int(np.round(pop_size*0.4))\n",
    "cros_size = int(np.round(pop_size*0.3)) # couples\n",
    "mut_size = int(np.round(pop_size*0.3))\n",
    "best_pop = algs.randwhilefalse(pop, sel_size=sel_size, tour_size=2, cros_size=cros_size, mut_size=mut_size, statslog=sl)\n",
    "print(f\"avg_time = \", np.sum([ sl.log[log_key][\"avg_time\"] for log_key in sl.log ]) )"
   ]
  },
  {
   "cell_type": "code",
   "execution_count": 8,
   "metadata": {},
   "outputs": [
    {
     "output_type": "execute_result",
     "data": {
      "text/plain": [
       "[{'Name1': [[0]], 'Name2': [[0, 0, 0, 0], [0, 0, 0, 0]]}]"
      ]
     },
     "metadata": {},
     "execution_count": 8
    }
   ],
   "source": [
    "best_pop.best_indvdls()"
   ]
  },
  {
   "cell_type": "code",
   "execution_count": 9,
   "metadata": {},
   "outputs": [
    {
     "output_type": "execute_result",
     "data": {
      "text/plain": [
       "{'pop_len': 20,\n",
       " 'avg_time': 0.00024279356002807618,\n",
       " 'std_fit': 0.08178437875953726,\n",
       " 'min_fit': 0.37735849056603776,\n",
       " 'max_fit': 0.8,\n",
       " 'best_indvdls': [{'Name1': [[0]],\n",
       "   'Name2': [[1, 0, 0, 1],\n",
       "    [1, 1, 0, 0],\n",
       "    [1, 0, 1, 0],\n",
       "    [0, 0, 0, 0],\n",
       "    [1, 0, 0, 1],\n",
       "    [1, 0, 0, 1],\n",
       "    [0, 1, 0, 0],\n",
       "    [0, 1, 1, 0],\n",
       "    [0, 1, 0, 0],\n",
       "    [0, 0, 1, 0],\n",
       "    [1, 0, 0, 0],\n",
       "    [1, 1, 1, 0],\n",
       "    [1, 0, 0, 0]]}]}"
      ]
     },
     "metadata": {},
     "execution_count": 9
    }
   ],
   "source": [
    "sl.log[1]"
   ]
  },
  {
   "cell_type": "code",
   "execution_count": 10,
   "metadata": {},
   "outputs": [
    {
     "output_type": "display_data",
     "data": {
      "application/vnd.plotly.v1+json": {
       "config": {
        "plotlyServerURL": "https://plot.ly"
       },
       "data": [
        {
         "hoverlabel": {
          "namelength": 0
         },
         "hovertemplate": "x=%{x}<br>y=%{y}",
         "legendgroup": "",
         "line": {
          "color": "#636efa",
          "dash": "solid"
         },
         "mode": "lines",
         "name": "",
         "showlegend": false,
         "type": "scatter",
         "x": [
          1,
          2,
          3,
          4,
          5,
          6,
          7,
          8,
          9,
          10,
          11,
          12,
          13,
          14,
          15,
          16,
          17,
          18,
          19,
          20,
          21,
          22,
          23,
          24,
          25,
          26,
          27,
          28,
          29,
          30,
          31,
          32,
          33,
          34,
          35,
          36,
          37,
          38,
          39,
          40,
          41,
          42,
          43,
          44,
          45,
          46,
          47,
          48,
          49,
          50,
          51,
          52,
          53,
          54,
          55,
          56,
          57,
          58,
          59,
          60,
          61,
          62,
          63,
          64,
          65,
          66,
          67,
          68,
          69,
          70,
          71,
          72,
          73,
          74,
          75,
          76,
          77,
          78,
          79,
          80,
          81,
          82,
          83,
          84,
          85,
          86,
          87,
          88,
          89,
          90,
          91,
          92,
          93,
          94,
          95,
          96,
          97,
          98,
          99,
          100,
          101,
          102,
          103,
          104,
          105,
          106,
          107,
          108,
          109,
          110,
          111,
          112,
          113,
          114,
          115,
          116,
          117,
          118,
          119,
          120,
          121,
          122,
          123,
          124,
          125,
          126,
          127,
          128,
          129,
          130,
          131,
          132,
          133,
          134,
          135,
          136,
          137,
          138,
          139,
          140,
          141,
          142,
          143,
          144,
          145,
          146,
          147,
          148,
          149,
          150,
          151,
          152,
          153,
          154,
          155,
          156,
          157,
          158,
          159,
          160,
          161,
          162,
          163,
          164,
          165,
          166,
          167,
          168,
          169,
          170,
          171,
          172,
          173,
          174,
          175,
          176,
          177,
          178,
          179,
          180,
          181,
          182,
          183,
          184,
          185,
          186,
          187,
          188,
          189,
          190,
          191,
          192,
          193,
          194,
          195,
          196,
          197,
          198,
          199,
          200,
          201,
          202,
          203,
          204,
          205,
          206,
          207,
          208,
          209,
          210,
          211,
          212,
          213,
          214,
          215,
          216,
          217,
          218,
          219,
          220,
          221,
          222,
          223,
          224,
          225,
          226,
          227,
          228,
          229,
          230,
          231,
          232,
          233,
          234,
          235,
          236,
          237,
          238,
          239,
          240,
          241,
          242,
          243,
          244,
          245,
          246,
          247,
          248,
          249,
          250,
          251,
          252,
          253,
          254,
          255,
          256,
          257,
          258,
          259,
          260,
          261,
          262,
          263,
          264,
          265,
          266,
          267,
          268,
          269,
          270,
          271,
          272,
          273,
          274,
          275,
          276,
          277,
          278,
          279,
          280,
          281,
          282,
          283,
          284,
          285,
          286,
          287,
          288,
          289,
          290,
          291,
          292,
          293,
          294,
          295,
          296,
          297,
          298,
          299,
          300,
          301,
          302,
          303
         ],
         "xaxis": "x",
         "y": [
          0.37735849056603776,
          0.37735849056603776,
          0.37735849056603776,
          0.32432432432432434,
          0.32432432432432434,
          0.35294117647058826,
          0.23529411764705882,
          0.23529411764705882,
          0.23529411764705882,
          0.23529411764705882,
          0.29411764705882354,
          0.17647058823529413,
          0.29411764705882354,
          0.29411764705882354,
          0.29411764705882354,
          0.3384615384615385,
          0.3384615384615385,
          0.3230769230769231,
          0.23076923076923078,
          0.23076923076923078,
          0.23076923076923078,
          0.23076923076923078,
          0.29411764705882354,
          0.23529411764705882,
          0.23529411764705882,
          0.23529411764705882,
          0.2727272727272727,
          0.2727272727272727,
          0.38461538461538464,
          0.38461538461538464,
          0.38461538461538464,
          0.38461538461538464,
          0.38461538461538464,
          0.38461538461538464,
          0.3711340206185567,
          0.36,
          0.38144329896907214,
          0.3448275862068966,
          0.3448275862068966,
          0.3448275862068966,
          0.3333333333333333,
          0.3448275862068966,
          0.3448275862068966,
          0.39593908629441626,
          0.39593908629441626,
          0.38596491228070173,
          0.2926829268292683,
          0.2926829268292683,
          0.2926829268292683,
          0.2926829268292683,
          0.2926829268292683,
          0.24324324324324326,
          0.29411764705882354,
          0.4186046511627907,
          0.4190871369294606,
          0.40828402366863903,
          0.38095238095238093,
          0.3076923076923077,
          0.37142857142857144,
          0.36470588235294116,
          0.36470588235294116,
          0.36470588235294116,
          0.3103448275862069,
          0.3076923076923077,
          0.2,
          0.2,
          0.2,
          0.2,
          0.21212121212121213,
          0.21212121212121213,
          0.12121212121212122,
          0.12121212121212122,
          0.18181818181818182,
          0.18181818181818182,
          0.1111111111111111,
          0.28,
          0.28,
          0.28,
          0.28,
          0.16,
          0.16,
          0.3170731707317073,
          0.3793103448275862,
          0.3442622950819672,
          0.3333333333333333,
          0.3103448275862069,
          0.19047619047619047,
          0.19047619047619047,
          0.3103448275862069,
          0.3103448275862069,
          0.3448275862068966,
          0.3448275862068966,
          0.3333333333333333,
          0.39869281045751637,
          0.39869281045751637,
          0.3902439024390244,
          0.3076923076923077,
          0.3076923076923077,
          0.3076923076923077,
          0.3076923076923077,
          0.40350877192982454,
          0.4146341463414634,
          0.3884297520661157,
          0.3584905660377358,
          0.4153846153846154,
          0.4146341463414634,
          0.4132231404958678,
          0.36585365853658536,
          0.4,
          0.39344262295081966,
          0.39344262295081966,
          0.3448275862068966,
          0.3448275862068966,
          0.3448275862068966,
          0.3448275862068966,
          0.4200743494423792,
          0.42105263157894735,
          0.425531914893617,
          0.4153846153846154,
          0.40148698884758366,
          0.40148698884758366,
          0.3333333333333333,
          0.3333333333333333,
          0.3333333333333333,
          0.37777777777777777,
          0.37777777777777777,
          0.38461538461538464,
          0.38461538461538464,
          0.3835616438356164,
          0.38461538461538464,
          0.38461538461538464,
          0.38461538461538464,
          0.38461538461538464,
          0.3673469387755102,
          0.23809523809523808,
          0.41040462427745666,
          0.3707865168539326,
          0.36,
          0.36,
          0.38095238095238093,
          0.3333333333333333,
          0.3333333333333333,
          0.3333333333333333,
          0.3333333333333333,
          0.3333333333333333,
          0.3333333333333333,
          0.3333333333333333,
          0.3333333333333333,
          0.3333333333333333,
          0.3333333333333333,
          0.2222222222222222,
          0.2222222222222222,
          0.3333333333333333,
          0.2,
          0.2,
          0.3333333333333333,
          0.3333333333333333,
          0.2857142857142857,
          0.2857142857142857,
          0.2857142857142857,
          0.37777777777777777,
          0.39622641509433965,
          0.3764705882352941,
          0.35384615384615387,
          0.35384615384615387,
          0.40875912408759124,
          0.28888888888888886,
          0.28888888888888886,
          0.3333333333333333,
          0.3333333333333333,
          0.4,
          0.38461538461538464,
          0.3902439024390244,
          0.3877551020408163,
          0.3877551020408163,
          0.2,
          0.3793103448275862,
          0.3793103448275862,
          0.2,
          0.2,
          0.35135135135135137,
          0.3111111111111111,
          0.37777777777777777,
          0.37777777777777777,
          0.37777777777777777,
          0.35555555555555557,
          0.3764705882352941,
          0.36923076923076925,
          0.36923076923076925,
          0.3707865168539326,
          0.38461538461538464,
          0.33707865168539325,
          0.33707865168539325,
          0.3384615384615385,
          0.3384615384615385,
          0.3333333333333333,
          0.3230769230769231,
          0.3333333333333333,
          0.3333333333333333,
          0.3333333333333333,
          0.3384615384615385,
          0.3384615384615385,
          0.3384615384615385,
          0.3111111111111111,
          0.3111111111111111,
          0.2923076923076923,
          0.16,
          0.3111111111111111,
          0.3333333333333333,
          0.3103448275862069,
          0.3333333333333333,
          0.30612244897959184,
          0.3333333333333333,
          0.3333333333333333,
          0.3333333333333333,
          0.3333333333333333,
          0.3333333333333333,
          0.3333333333333333,
          0.38095238095238093,
          0.38095238095238093,
          0.42574257425742573,
          0.42574257425742573,
          0.39603960396039606,
          0.39603960396039606,
          0.4,
          0.4,
          0.34146341463414637,
          0.34146341463414637,
          0.4161849710982659,
          0.35294117647058826,
          0.35294117647058826,
          0.4161849710982659,
          0.4199475065616798,
          0.43478260869565216,
          0.4,
          0.4496124031007752,
          0.35294117647058826,
          0.17647058823529413,
          0.17647058823529413,
          0.17647058823529413,
          0.23529411764705882,
          0.2222222222222222,
          0.2222222222222222,
          0.2222222222222222,
          0.2222222222222222,
          0.2222222222222222,
          0.23529411764705882,
          0.29411764705882354,
          0.4036697247706422,
          0.3448275862068966,
          0.3448275862068966,
          0.3669724770642202,
          0.32432432432432434,
          0.3394495412844037,
          0.3669724770642202,
          0.3669724770642202,
          0.39215686274509803,
          0.39215686274509803,
          0.39215686274509803,
          0.40310077519379844,
          0.3333333333333333,
          0.3333333333333333,
          0.28,
          0.32,
          0.32,
          0.35294117647058826,
          0.15384615384615385,
          0.2,
          0.2,
          0.3442622950819672,
          0.3442622950819672,
          0.3076923076923077,
          0.4067796610169492,
          0.40816326530612246,
          0.40816326530612246,
          0.4,
          0.3793103448275862,
          0.38461538461538464,
          0.38461538461538464,
          0.3793103448275862,
          0.23076923076923078,
          0.23076923076923078,
          0.23076923076923078,
          0.23076923076923078,
          0.23076923076923078,
          0.23076923076923078,
          0.34146341463414637,
          0.30303030303030304,
          0.3103448275862069,
          0.3333333333333333,
          0.3333333333333333,
          0.3584905660377358,
          0.36585365853658536,
          0.38461538461538464,
          0.38461538461538464,
          0.38461538461538464,
          0.38095238095238093,
          0.38461538461538464,
          0.3902439024390244,
          0.3902439024390244,
          0.2222222222222222,
          0.2222222222222222,
          0
         ],
         "yaxis": "y"
        }
       ],
       "layout": {
        "legend": {
         "tracegroupgap": 0
        },
        "margin": {
         "t": 60
        },
        "template": {
         "data": {
          "bar": [
           {
            "error_x": {
             "color": "#2a3f5f"
            },
            "error_y": {
             "color": "#2a3f5f"
            },
            "marker": {
             "line": {
              "color": "#E5ECF6",
              "width": 0.5
             }
            },
            "type": "bar"
           }
          ],
          "barpolar": [
           {
            "marker": {
             "line": {
              "color": "#E5ECF6",
              "width": 0.5
             }
            },
            "type": "barpolar"
           }
          ],
          "carpet": [
           {
            "aaxis": {
             "endlinecolor": "#2a3f5f",
             "gridcolor": "white",
             "linecolor": "white",
             "minorgridcolor": "white",
             "startlinecolor": "#2a3f5f"
            },
            "baxis": {
             "endlinecolor": "#2a3f5f",
             "gridcolor": "white",
             "linecolor": "white",
             "minorgridcolor": "white",
             "startlinecolor": "#2a3f5f"
            },
            "type": "carpet"
           }
          ],
          "choropleth": [
           {
            "colorbar": {
             "outlinewidth": 0,
             "ticks": ""
            },
            "type": "choropleth"
           }
          ],
          "contour": [
           {
            "colorbar": {
             "outlinewidth": 0,
             "ticks": ""
            },
            "colorscale": [
             [
              0,
              "#0d0887"
             ],
             [
              0.1111111111111111,
              "#46039f"
             ],
             [
              0.2222222222222222,
              "#7201a8"
             ],
             [
              0.3333333333333333,
              "#9c179e"
             ],
             [
              0.4444444444444444,
              "#bd3786"
             ],
             [
              0.5555555555555556,
              "#d8576b"
             ],
             [
              0.6666666666666666,
              "#ed7953"
             ],
             [
              0.7777777777777778,
              "#fb9f3a"
             ],
             [
              0.8888888888888888,
              "#fdca26"
             ],
             [
              1,
              "#f0f921"
             ]
            ],
            "type": "contour"
           }
          ],
          "contourcarpet": [
           {
            "colorbar": {
             "outlinewidth": 0,
             "ticks": ""
            },
            "type": "contourcarpet"
           }
          ],
          "heatmap": [
           {
            "colorbar": {
             "outlinewidth": 0,
             "ticks": ""
            },
            "colorscale": [
             [
              0,
              "#0d0887"
             ],
             [
              0.1111111111111111,
              "#46039f"
             ],
             [
              0.2222222222222222,
              "#7201a8"
             ],
             [
              0.3333333333333333,
              "#9c179e"
             ],
             [
              0.4444444444444444,
              "#bd3786"
             ],
             [
              0.5555555555555556,
              "#d8576b"
             ],
             [
              0.6666666666666666,
              "#ed7953"
             ],
             [
              0.7777777777777778,
              "#fb9f3a"
             ],
             [
              0.8888888888888888,
              "#fdca26"
             ],
             [
              1,
              "#f0f921"
             ]
            ],
            "type": "heatmap"
           }
          ],
          "heatmapgl": [
           {
            "colorbar": {
             "outlinewidth": 0,
             "ticks": ""
            },
            "colorscale": [
             [
              0,
              "#0d0887"
             ],
             [
              0.1111111111111111,
              "#46039f"
             ],
             [
              0.2222222222222222,
              "#7201a8"
             ],
             [
              0.3333333333333333,
              "#9c179e"
             ],
             [
              0.4444444444444444,
              "#bd3786"
             ],
             [
              0.5555555555555556,
              "#d8576b"
             ],
             [
              0.6666666666666666,
              "#ed7953"
             ],
             [
              0.7777777777777778,
              "#fb9f3a"
             ],
             [
              0.8888888888888888,
              "#fdca26"
             ],
             [
              1,
              "#f0f921"
             ]
            ],
            "type": "heatmapgl"
           }
          ],
          "histogram": [
           {
            "marker": {
             "colorbar": {
              "outlinewidth": 0,
              "ticks": ""
             }
            },
            "type": "histogram"
           }
          ],
          "histogram2d": [
           {
            "colorbar": {
             "outlinewidth": 0,
             "ticks": ""
            },
            "colorscale": [
             [
              0,
              "#0d0887"
             ],
             [
              0.1111111111111111,
              "#46039f"
             ],
             [
              0.2222222222222222,
              "#7201a8"
             ],
             [
              0.3333333333333333,
              "#9c179e"
             ],
             [
              0.4444444444444444,
              "#bd3786"
             ],
             [
              0.5555555555555556,
              "#d8576b"
             ],
             [
              0.6666666666666666,
              "#ed7953"
             ],
             [
              0.7777777777777778,
              "#fb9f3a"
             ],
             [
              0.8888888888888888,
              "#fdca26"
             ],
             [
              1,
              "#f0f921"
             ]
            ],
            "type": "histogram2d"
           }
          ],
          "histogram2dcontour": [
           {
            "colorbar": {
             "outlinewidth": 0,
             "ticks": ""
            },
            "colorscale": [
             [
              0,
              "#0d0887"
             ],
             [
              0.1111111111111111,
              "#46039f"
             ],
             [
              0.2222222222222222,
              "#7201a8"
             ],
             [
              0.3333333333333333,
              "#9c179e"
             ],
             [
              0.4444444444444444,
              "#bd3786"
             ],
             [
              0.5555555555555556,
              "#d8576b"
             ],
             [
              0.6666666666666666,
              "#ed7953"
             ],
             [
              0.7777777777777778,
              "#fb9f3a"
             ],
             [
              0.8888888888888888,
              "#fdca26"
             ],
             [
              1,
              "#f0f921"
             ]
            ],
            "type": "histogram2dcontour"
           }
          ],
          "mesh3d": [
           {
            "colorbar": {
             "outlinewidth": 0,
             "ticks": ""
            },
            "type": "mesh3d"
           }
          ],
          "parcoords": [
           {
            "line": {
             "colorbar": {
              "outlinewidth": 0,
              "ticks": ""
             }
            },
            "type": "parcoords"
           }
          ],
          "pie": [
           {
            "automargin": true,
            "type": "pie"
           }
          ],
          "scatter": [
           {
            "marker": {
             "colorbar": {
              "outlinewidth": 0,
              "ticks": ""
             }
            },
            "type": "scatter"
           }
          ],
          "scatter3d": [
           {
            "line": {
             "colorbar": {
              "outlinewidth": 0,
              "ticks": ""
             }
            },
            "marker": {
             "colorbar": {
              "outlinewidth": 0,
              "ticks": ""
             }
            },
            "type": "scatter3d"
           }
          ],
          "scattercarpet": [
           {
            "marker": {
             "colorbar": {
              "outlinewidth": 0,
              "ticks": ""
             }
            },
            "type": "scattercarpet"
           }
          ],
          "scattergeo": [
           {
            "marker": {
             "colorbar": {
              "outlinewidth": 0,
              "ticks": ""
             }
            },
            "type": "scattergeo"
           }
          ],
          "scattergl": [
           {
            "marker": {
             "colorbar": {
              "outlinewidth": 0,
              "ticks": ""
             }
            },
            "type": "scattergl"
           }
          ],
          "scattermapbox": [
           {
            "marker": {
             "colorbar": {
              "outlinewidth": 0,
              "ticks": ""
             }
            },
            "type": "scattermapbox"
           }
          ],
          "scatterpolar": [
           {
            "marker": {
             "colorbar": {
              "outlinewidth": 0,
              "ticks": ""
             }
            },
            "type": "scatterpolar"
           }
          ],
          "scatterpolargl": [
           {
            "marker": {
             "colorbar": {
              "outlinewidth": 0,
              "ticks": ""
             }
            },
            "type": "scatterpolargl"
           }
          ],
          "scatterternary": [
           {
            "marker": {
             "colorbar": {
              "outlinewidth": 0,
              "ticks": ""
             }
            },
            "type": "scatterternary"
           }
          ],
          "surface": [
           {
            "colorbar": {
             "outlinewidth": 0,
             "ticks": ""
            },
            "colorscale": [
             [
              0,
              "#0d0887"
             ],
             [
              0.1111111111111111,
              "#46039f"
             ],
             [
              0.2222222222222222,
              "#7201a8"
             ],
             [
              0.3333333333333333,
              "#9c179e"
             ],
             [
              0.4444444444444444,
              "#bd3786"
             ],
             [
              0.5555555555555556,
              "#d8576b"
             ],
             [
              0.6666666666666666,
              "#ed7953"
             ],
             [
              0.7777777777777778,
              "#fb9f3a"
             ],
             [
              0.8888888888888888,
              "#fdca26"
             ],
             [
              1,
              "#f0f921"
             ]
            ],
            "type": "surface"
           }
          ],
          "table": [
           {
            "cells": {
             "fill": {
              "color": "#EBF0F8"
             },
             "line": {
              "color": "white"
             }
            },
            "header": {
             "fill": {
              "color": "#C8D4E3"
             },
             "line": {
              "color": "white"
             }
            },
            "type": "table"
           }
          ]
         },
         "layout": {
          "annotationdefaults": {
           "arrowcolor": "#2a3f5f",
           "arrowhead": 0,
           "arrowwidth": 1
          },
          "coloraxis": {
           "colorbar": {
            "outlinewidth": 0,
            "ticks": ""
           }
          },
          "colorscale": {
           "diverging": [
            [
             0,
             "#8e0152"
            ],
            [
             0.1,
             "#c51b7d"
            ],
            [
             0.2,
             "#de77ae"
            ],
            [
             0.3,
             "#f1b6da"
            ],
            [
             0.4,
             "#fde0ef"
            ],
            [
             0.5,
             "#f7f7f7"
            ],
            [
             0.6,
             "#e6f5d0"
            ],
            [
             0.7,
             "#b8e186"
            ],
            [
             0.8,
             "#7fbc41"
            ],
            [
             0.9,
             "#4d9221"
            ],
            [
             1,
             "#276419"
            ]
           ],
           "sequential": [
            [
             0,
             "#0d0887"
            ],
            [
             0.1111111111111111,
             "#46039f"
            ],
            [
             0.2222222222222222,
             "#7201a8"
            ],
            [
             0.3333333333333333,
             "#9c179e"
            ],
            [
             0.4444444444444444,
             "#bd3786"
            ],
            [
             0.5555555555555556,
             "#d8576b"
            ],
            [
             0.6666666666666666,
             "#ed7953"
            ],
            [
             0.7777777777777778,
             "#fb9f3a"
            ],
            [
             0.8888888888888888,
             "#fdca26"
            ],
            [
             1,
             "#f0f921"
            ]
           ],
           "sequentialminus": [
            [
             0,
             "#0d0887"
            ],
            [
             0.1111111111111111,
             "#46039f"
            ],
            [
             0.2222222222222222,
             "#7201a8"
            ],
            [
             0.3333333333333333,
             "#9c179e"
            ],
            [
             0.4444444444444444,
             "#bd3786"
            ],
            [
             0.5555555555555556,
             "#d8576b"
            ],
            [
             0.6666666666666666,
             "#ed7953"
            ],
            [
             0.7777777777777778,
             "#fb9f3a"
            ],
            [
             0.8888888888888888,
             "#fdca26"
            ],
            [
             1,
             "#f0f921"
            ]
           ]
          },
          "colorway": [
           "#636efa",
           "#EF553B",
           "#00cc96",
           "#ab63fa",
           "#FFA15A",
           "#19d3f3",
           "#FF6692",
           "#B6E880",
           "#FF97FF",
           "#FECB52"
          ],
          "font": {
           "color": "#2a3f5f"
          },
          "geo": {
           "bgcolor": "white",
           "lakecolor": "white",
           "landcolor": "#E5ECF6",
           "showlakes": true,
           "showland": true,
           "subunitcolor": "white"
          },
          "hoverlabel": {
           "align": "left"
          },
          "hovermode": "closest",
          "mapbox": {
           "style": "light"
          },
          "paper_bgcolor": "white",
          "plot_bgcolor": "#E5ECF6",
          "polar": {
           "angularaxis": {
            "gridcolor": "white",
            "linecolor": "white",
            "ticks": ""
           },
           "bgcolor": "#E5ECF6",
           "radialaxis": {
            "gridcolor": "white",
            "linecolor": "white",
            "ticks": ""
           }
          },
          "scene": {
           "xaxis": {
            "backgroundcolor": "#E5ECF6",
            "gridcolor": "white",
            "gridwidth": 2,
            "linecolor": "white",
            "showbackground": true,
            "ticks": "",
            "zerolinecolor": "white"
           },
           "yaxis": {
            "backgroundcolor": "#E5ECF6",
            "gridcolor": "white",
            "gridwidth": 2,
            "linecolor": "white",
            "showbackground": true,
            "ticks": "",
            "zerolinecolor": "white"
           },
           "zaxis": {
            "backgroundcolor": "#E5ECF6",
            "gridcolor": "white",
            "gridwidth": 2,
            "linecolor": "white",
            "showbackground": true,
            "ticks": "",
            "zerolinecolor": "white"
           }
          },
          "shapedefaults": {
           "line": {
            "color": "#2a3f5f"
           }
          },
          "ternary": {
           "aaxis": {
            "gridcolor": "white",
            "linecolor": "white",
            "ticks": ""
           },
           "baxis": {
            "gridcolor": "white",
            "linecolor": "white",
            "ticks": ""
           },
           "bgcolor": "#E5ECF6",
           "caxis": {
            "gridcolor": "white",
            "linecolor": "white",
            "ticks": ""
           }
          },
          "title": {
           "x": 0.05
          },
          "xaxis": {
           "automargin": true,
           "gridcolor": "white",
           "linecolor": "white",
           "ticks": "",
           "title": {
            "standoff": 15
           },
           "zerolinecolor": "white",
           "zerolinewidth": 2
          },
          "yaxis": {
           "automargin": true,
           "gridcolor": "white",
           "linecolor": "white",
           "ticks": "",
           "title": {
            "standoff": 15
           },
           "zerolinecolor": "white",
           "zerolinewidth": 2
          }
         }
        },
        "xaxis": {
         "anchor": "y",
         "domain": [
          0,
          1
         ],
         "title": {
          "text": "x"
         }
        },
        "yaxis": {
         "anchor": "x",
         "domain": [
          0,
          1
         ],
         "title": {
          "text": "y"
         }
        }
       }
      }
     },
     "metadata": {}
    }
   ],
   "source": [
    "fig = pe.line(x=list(sl.log.keys()), y=[ sl.log[key][\"min_fit\"] for key in sl.log])\n",
    "fig.show()"
   ]
  },
  {
   "cell_type": "code",
   "execution_count": 11,
   "metadata": {},
   "outputs": [
    {
     "output_type": "stream",
     "name": "stdout",
     "text": [
      "gen|  pop_len|  avg_time|  std_fit|  min_fit|  max_fit|  \n",
      "1|  20|  0.00023430585861206055|  0.0664661901670617|  0.35294117647058826|  0.6588235294117647|  \n",
      "2|  20|  0.00015954971313476564|  0.07539068881607075|  0.2|  0.5590062111801242|  \n",
      "3|  20|  0.0002209782600402832|  0.03297307600825749|  0.4|  0.5280898876404494|  \n",
      "4|  20|  0.00019692182540893556|  0.05953440458121311|  0.3076923076923077|  0.6097560975609756|  \n",
      "5|  20|  0.00021734237670898438|  0.06260504231276164|  0.3076923076923077|  0.608|  \n",
      "6|  20|  0.00020552873611450194|  0.05544857905406549|  0.3076923076923077|  0.5692307692307692|  \n",
      "7|  20|  0.00018781423568725586|  0.03987136585001456|  0.3953488372093023|  0.5463414634146342|  \n",
      "8|  20|  0.0002456545829772949|  0.043491165970932326|  0.3953488372093023|  0.5463917525773195|  \n",
      "9|  20|  0.00019207000732421876|  0.07343330645926005|  0.2|  0.5555555555555556|  \n",
      "avg_time =  0.0018601655960083009\n"
     ]
    }
   ],
   "source": [
    "description = {\"Name1\":{\"quantity\":[1], \"values\":[[0,1]]},\n",
    "               \"Name2\":{\"quantity\":range(1,100), \"values\":[[0, 1],[0, 1], [0,1], [0,1]]}\n",
    "               }\n",
    "\n",
    "pop_size=20\n",
    "pop = Population(description=description, evaluate=allone, fitness_target = 0, task_type=TaskType.MIN)\n",
    "pop.extend( inits.initRandom(pop.description,size=pop_size) )\n",
    "\n",
    "#create statslog\n",
    "sl = StatsLog(funcs=[pop_len, avg_time, std_fit, min_fit, max_fit, best_indvdls], viznt_funcs=[best_indvdls])\n",
    "    \n",
    "#start algorithm randwhilefalse\n",
    "sel_size = int(np.round(pop_size*0.4))\n",
    "cros_size = int(np.round(pop_size*0.3)) # couples\n",
    "mut_size = int(np.round(pop_size*0.3))\n",
    "best_pop = algs.randngen(pop, ngen=10, sel_size=sel_size, tour_size=2, cros_size=cros_size, mut_size=mut_size, statslog=sl)\n",
    "print(f\"avg_time = \", np.sum([ sl.log[log_key][\"avg_time\"] for log_key in sl.log ]) )"
   ]
  },
  {
   "cell_type": "code",
   "execution_count": 12,
   "metadata": {},
   "outputs": [
    {
     "output_type": "execute_result",
     "data": {
      "text/plain": [
       "[{'Name1': [[0]], 'Name2': [[0, 0, 1, 0]]}]"
      ]
     },
     "metadata": {},
     "execution_count": 12
    }
   ],
   "source": [
    "best_pop.best_indvdls()"
   ]
  },
  {
   "cell_type": "code",
   "execution_count": 13,
   "metadata": {},
   "outputs": [
    {
     "output_type": "execute_result",
     "data": {
      "text/plain": [
       "{'pop_len': 20,\n",
       " 'avg_time': 0.00023430585861206055,\n",
       " 'std_fit': 0.0664661901670617,\n",
       " 'min_fit': 0.35294117647058826,\n",
       " 'max_fit': 0.6588235294117647,\n",
       " 'best_indvdls': [{'Name1': [[1]],\n",
       "   'Name2': [[0, 0, 0, 1], [0, 0, 0, 1], [0, 0, 0, 1], [1, 0, 0, 1]]}]}"
      ]
     },
     "metadata": {},
     "execution_count": 13
    }
   ],
   "source": [
    "sl.log[1]"
   ]
  },
  {
   "cell_type": "code",
   "execution_count": 14,
   "metadata": {},
   "outputs": [
    {
     "output_type": "display_data",
     "data": {
      "application/vnd.plotly.v1+json": {
       "config": {
        "plotlyServerURL": "https://plot.ly"
       },
       "data": [
        {
         "hoverlabel": {
          "namelength": 0
         },
         "hovertemplate": "x=%{x}<br>y=%{y}",
         "legendgroup": "",
         "line": {
          "color": "#636efa",
          "dash": "solid"
         },
         "mode": "lines",
         "name": "",
         "showlegend": false,
         "type": "scatter",
         "x": [
          1,
          2,
          3,
          4,
          5,
          6,
          7,
          8,
          9
         ],
         "xaxis": "x",
         "y": [
          0.35294117647058826,
          0.2,
          0.4,
          0.3076923076923077,
          0.3076923076923077,
          0.3076923076923077,
          0.3953488372093023,
          0.3953488372093023,
          0.2
         ],
         "yaxis": "y"
        }
       ],
       "layout": {
        "legend": {
         "tracegroupgap": 0
        },
        "margin": {
         "t": 60
        },
        "template": {
         "data": {
          "bar": [
           {
            "error_x": {
             "color": "#2a3f5f"
            },
            "error_y": {
             "color": "#2a3f5f"
            },
            "marker": {
             "line": {
              "color": "#E5ECF6",
              "width": 0.5
             }
            },
            "type": "bar"
           }
          ],
          "barpolar": [
           {
            "marker": {
             "line": {
              "color": "#E5ECF6",
              "width": 0.5
             }
            },
            "type": "barpolar"
           }
          ],
          "carpet": [
           {
            "aaxis": {
             "endlinecolor": "#2a3f5f",
             "gridcolor": "white",
             "linecolor": "white",
             "minorgridcolor": "white",
             "startlinecolor": "#2a3f5f"
            },
            "baxis": {
             "endlinecolor": "#2a3f5f",
             "gridcolor": "white",
             "linecolor": "white",
             "minorgridcolor": "white",
             "startlinecolor": "#2a3f5f"
            },
            "type": "carpet"
           }
          ],
          "choropleth": [
           {
            "colorbar": {
             "outlinewidth": 0,
             "ticks": ""
            },
            "type": "choropleth"
           }
          ],
          "contour": [
           {
            "colorbar": {
             "outlinewidth": 0,
             "ticks": ""
            },
            "colorscale": [
             [
              0,
              "#0d0887"
             ],
             [
              0.1111111111111111,
              "#46039f"
             ],
             [
              0.2222222222222222,
              "#7201a8"
             ],
             [
              0.3333333333333333,
              "#9c179e"
             ],
             [
              0.4444444444444444,
              "#bd3786"
             ],
             [
              0.5555555555555556,
              "#d8576b"
             ],
             [
              0.6666666666666666,
              "#ed7953"
             ],
             [
              0.7777777777777778,
              "#fb9f3a"
             ],
             [
              0.8888888888888888,
              "#fdca26"
             ],
             [
              1,
              "#f0f921"
             ]
            ],
            "type": "contour"
           }
          ],
          "contourcarpet": [
           {
            "colorbar": {
             "outlinewidth": 0,
             "ticks": ""
            },
            "type": "contourcarpet"
           }
          ],
          "heatmap": [
           {
            "colorbar": {
             "outlinewidth": 0,
             "ticks": ""
            },
            "colorscale": [
             [
              0,
              "#0d0887"
             ],
             [
              0.1111111111111111,
              "#46039f"
             ],
             [
              0.2222222222222222,
              "#7201a8"
             ],
             [
              0.3333333333333333,
              "#9c179e"
             ],
             [
              0.4444444444444444,
              "#bd3786"
             ],
             [
              0.5555555555555556,
              "#d8576b"
             ],
             [
              0.6666666666666666,
              "#ed7953"
             ],
             [
              0.7777777777777778,
              "#fb9f3a"
             ],
             [
              0.8888888888888888,
              "#fdca26"
             ],
             [
              1,
              "#f0f921"
             ]
            ],
            "type": "heatmap"
           }
          ],
          "heatmapgl": [
           {
            "colorbar": {
             "outlinewidth": 0,
             "ticks": ""
            },
            "colorscale": [
             [
              0,
              "#0d0887"
             ],
             [
              0.1111111111111111,
              "#46039f"
             ],
             [
              0.2222222222222222,
              "#7201a8"
             ],
             [
              0.3333333333333333,
              "#9c179e"
             ],
             [
              0.4444444444444444,
              "#bd3786"
             ],
             [
              0.5555555555555556,
              "#d8576b"
             ],
             [
              0.6666666666666666,
              "#ed7953"
             ],
             [
              0.7777777777777778,
              "#fb9f3a"
             ],
             [
              0.8888888888888888,
              "#fdca26"
             ],
             [
              1,
              "#f0f921"
             ]
            ],
            "type": "heatmapgl"
           }
          ],
          "histogram": [
           {
            "marker": {
             "colorbar": {
              "outlinewidth": 0,
              "ticks": ""
             }
            },
            "type": "histogram"
           }
          ],
          "histogram2d": [
           {
            "colorbar": {
             "outlinewidth": 0,
             "ticks": ""
            },
            "colorscale": [
             [
              0,
              "#0d0887"
             ],
             [
              0.1111111111111111,
              "#46039f"
             ],
             [
              0.2222222222222222,
              "#7201a8"
             ],
             [
              0.3333333333333333,
              "#9c179e"
             ],
             [
              0.4444444444444444,
              "#bd3786"
             ],
             [
              0.5555555555555556,
              "#d8576b"
             ],
             [
              0.6666666666666666,
              "#ed7953"
             ],
             [
              0.7777777777777778,
              "#fb9f3a"
             ],
             [
              0.8888888888888888,
              "#fdca26"
             ],
             [
              1,
              "#f0f921"
             ]
            ],
            "type": "histogram2d"
           }
          ],
          "histogram2dcontour": [
           {
            "colorbar": {
             "outlinewidth": 0,
             "ticks": ""
            },
            "colorscale": [
             [
              0,
              "#0d0887"
             ],
             [
              0.1111111111111111,
              "#46039f"
             ],
             [
              0.2222222222222222,
              "#7201a8"
             ],
             [
              0.3333333333333333,
              "#9c179e"
             ],
             [
              0.4444444444444444,
              "#bd3786"
             ],
             [
              0.5555555555555556,
              "#d8576b"
             ],
             [
              0.6666666666666666,
              "#ed7953"
             ],
             [
              0.7777777777777778,
              "#fb9f3a"
             ],
             [
              0.8888888888888888,
              "#fdca26"
             ],
             [
              1,
              "#f0f921"
             ]
            ],
            "type": "histogram2dcontour"
           }
          ],
          "mesh3d": [
           {
            "colorbar": {
             "outlinewidth": 0,
             "ticks": ""
            },
            "type": "mesh3d"
           }
          ],
          "parcoords": [
           {
            "line": {
             "colorbar": {
              "outlinewidth": 0,
              "ticks": ""
             }
            },
            "type": "parcoords"
           }
          ],
          "pie": [
           {
            "automargin": true,
            "type": "pie"
           }
          ],
          "scatter": [
           {
            "marker": {
             "colorbar": {
              "outlinewidth": 0,
              "ticks": ""
             }
            },
            "type": "scatter"
           }
          ],
          "scatter3d": [
           {
            "line": {
             "colorbar": {
              "outlinewidth": 0,
              "ticks": ""
             }
            },
            "marker": {
             "colorbar": {
              "outlinewidth": 0,
              "ticks": ""
             }
            },
            "type": "scatter3d"
           }
          ],
          "scattercarpet": [
           {
            "marker": {
             "colorbar": {
              "outlinewidth": 0,
              "ticks": ""
             }
            },
            "type": "scattercarpet"
           }
          ],
          "scattergeo": [
           {
            "marker": {
             "colorbar": {
              "outlinewidth": 0,
              "ticks": ""
             }
            },
            "type": "scattergeo"
           }
          ],
          "scattergl": [
           {
            "marker": {
             "colorbar": {
              "outlinewidth": 0,
              "ticks": ""
             }
            },
            "type": "scattergl"
           }
          ],
          "scattermapbox": [
           {
            "marker": {
             "colorbar": {
              "outlinewidth": 0,
              "ticks": ""
             }
            },
            "type": "scattermapbox"
           }
          ],
          "scatterpolar": [
           {
            "marker": {
             "colorbar": {
              "outlinewidth": 0,
              "ticks": ""
             }
            },
            "type": "scatterpolar"
           }
          ],
          "scatterpolargl": [
           {
            "marker": {
             "colorbar": {
              "outlinewidth": 0,
              "ticks": ""
             }
            },
            "type": "scatterpolargl"
           }
          ],
          "scatterternary": [
           {
            "marker": {
             "colorbar": {
              "outlinewidth": 0,
              "ticks": ""
             }
            },
            "type": "scatterternary"
           }
          ],
          "surface": [
           {
            "colorbar": {
             "outlinewidth": 0,
             "ticks": ""
            },
            "colorscale": [
             [
              0,
              "#0d0887"
             ],
             [
              0.1111111111111111,
              "#46039f"
             ],
             [
              0.2222222222222222,
              "#7201a8"
             ],
             [
              0.3333333333333333,
              "#9c179e"
             ],
             [
              0.4444444444444444,
              "#bd3786"
             ],
             [
              0.5555555555555556,
              "#d8576b"
             ],
             [
              0.6666666666666666,
              "#ed7953"
             ],
             [
              0.7777777777777778,
              "#fb9f3a"
             ],
             [
              0.8888888888888888,
              "#fdca26"
             ],
             [
              1,
              "#f0f921"
             ]
            ],
            "type": "surface"
           }
          ],
          "table": [
           {
            "cells": {
             "fill": {
              "color": "#EBF0F8"
             },
             "line": {
              "color": "white"
             }
            },
            "header": {
             "fill": {
              "color": "#C8D4E3"
             },
             "line": {
              "color": "white"
             }
            },
            "type": "table"
           }
          ]
         },
         "layout": {
          "annotationdefaults": {
           "arrowcolor": "#2a3f5f",
           "arrowhead": 0,
           "arrowwidth": 1
          },
          "coloraxis": {
           "colorbar": {
            "outlinewidth": 0,
            "ticks": ""
           }
          },
          "colorscale": {
           "diverging": [
            [
             0,
             "#8e0152"
            ],
            [
             0.1,
             "#c51b7d"
            ],
            [
             0.2,
             "#de77ae"
            ],
            [
             0.3,
             "#f1b6da"
            ],
            [
             0.4,
             "#fde0ef"
            ],
            [
             0.5,
             "#f7f7f7"
            ],
            [
             0.6,
             "#e6f5d0"
            ],
            [
             0.7,
             "#b8e186"
            ],
            [
             0.8,
             "#7fbc41"
            ],
            [
             0.9,
             "#4d9221"
            ],
            [
             1,
             "#276419"
            ]
           ],
           "sequential": [
            [
             0,
             "#0d0887"
            ],
            [
             0.1111111111111111,
             "#46039f"
            ],
            [
             0.2222222222222222,
             "#7201a8"
            ],
            [
             0.3333333333333333,
             "#9c179e"
            ],
            [
             0.4444444444444444,
             "#bd3786"
            ],
            [
             0.5555555555555556,
             "#d8576b"
            ],
            [
             0.6666666666666666,
             "#ed7953"
            ],
            [
             0.7777777777777778,
             "#fb9f3a"
            ],
            [
             0.8888888888888888,
             "#fdca26"
            ],
            [
             1,
             "#f0f921"
            ]
           ],
           "sequentialminus": [
            [
             0,
             "#0d0887"
            ],
            [
             0.1111111111111111,
             "#46039f"
            ],
            [
             0.2222222222222222,
             "#7201a8"
            ],
            [
             0.3333333333333333,
             "#9c179e"
            ],
            [
             0.4444444444444444,
             "#bd3786"
            ],
            [
             0.5555555555555556,
             "#d8576b"
            ],
            [
             0.6666666666666666,
             "#ed7953"
            ],
            [
             0.7777777777777778,
             "#fb9f3a"
            ],
            [
             0.8888888888888888,
             "#fdca26"
            ],
            [
             1,
             "#f0f921"
            ]
           ]
          },
          "colorway": [
           "#636efa",
           "#EF553B",
           "#00cc96",
           "#ab63fa",
           "#FFA15A",
           "#19d3f3",
           "#FF6692",
           "#B6E880",
           "#FF97FF",
           "#FECB52"
          ],
          "font": {
           "color": "#2a3f5f"
          },
          "geo": {
           "bgcolor": "white",
           "lakecolor": "white",
           "landcolor": "#E5ECF6",
           "showlakes": true,
           "showland": true,
           "subunitcolor": "white"
          },
          "hoverlabel": {
           "align": "left"
          },
          "hovermode": "closest",
          "mapbox": {
           "style": "light"
          },
          "paper_bgcolor": "white",
          "plot_bgcolor": "#E5ECF6",
          "polar": {
           "angularaxis": {
            "gridcolor": "white",
            "linecolor": "white",
            "ticks": ""
           },
           "bgcolor": "#E5ECF6",
           "radialaxis": {
            "gridcolor": "white",
            "linecolor": "white",
            "ticks": ""
           }
          },
          "scene": {
           "xaxis": {
            "backgroundcolor": "#E5ECF6",
            "gridcolor": "white",
            "gridwidth": 2,
            "linecolor": "white",
            "showbackground": true,
            "ticks": "",
            "zerolinecolor": "white"
           },
           "yaxis": {
            "backgroundcolor": "#E5ECF6",
            "gridcolor": "white",
            "gridwidth": 2,
            "linecolor": "white",
            "showbackground": true,
            "ticks": "",
            "zerolinecolor": "white"
           },
           "zaxis": {
            "backgroundcolor": "#E5ECF6",
            "gridcolor": "white",
            "gridwidth": 2,
            "linecolor": "white",
            "showbackground": true,
            "ticks": "",
            "zerolinecolor": "white"
           }
          },
          "shapedefaults": {
           "line": {
            "color": "#2a3f5f"
           }
          },
          "ternary": {
           "aaxis": {
            "gridcolor": "white",
            "linecolor": "white",
            "ticks": ""
           },
           "baxis": {
            "gridcolor": "white",
            "linecolor": "white",
            "ticks": ""
           },
           "bgcolor": "#E5ECF6",
           "caxis": {
            "gridcolor": "white",
            "linecolor": "white",
            "ticks": ""
           }
          },
          "title": {
           "x": 0.05
          },
          "xaxis": {
           "automargin": true,
           "gridcolor": "white",
           "linecolor": "white",
           "ticks": "",
           "title": {
            "standoff": 15
           },
           "zerolinecolor": "white",
           "zerolinewidth": 2
          },
          "yaxis": {
           "automargin": true,
           "gridcolor": "white",
           "linecolor": "white",
           "ticks": "",
           "title": {
            "standoff": 15
           },
           "zerolinecolor": "white",
           "zerolinewidth": 2
          }
         }
        },
        "xaxis": {
         "anchor": "y",
         "domain": [
          0,
          1
         ],
         "title": {
          "text": "x"
         }
        },
        "yaxis": {
         "anchor": "x",
         "domain": [
          0,
          1
         ],
         "title": {
          "text": "y"
         }
        }
       }
      }
     },
     "metadata": {}
    }
   ],
   "source": [
    "fig = pe.line(x=list(sl.log.keys()), y=[ sl.log[key][\"min_fit\"] for key in sl.log])\n",
    "fig.show()"
   ]
  },
  {
   "source": [
    "# Max algorithm"
   ],
   "cell_type": "markdown",
   "metadata": {}
  },
  {
   "cell_type": "code",
   "execution_count": 15,
   "metadata": {},
   "outputs": [
    {
     "output_type": "stream",
     "name": "stdout",
     "text": [
      "gen|  pop_len|  avg_time|  std_fit|  min_fit|  max_fit|  \n",
      "1|  20|  0.0002762436866760254|  0.0778592352559338|  0.24|  0.6444444444444445|  \n",
      "2|  20|  0.0002868056297302246|  0.06199934678062115|  0.4|  0.6444444444444445|  \n",
      "3|  20|  0.00020924806594848632|  0.06510373968394778|  0.4497354497354497|  0.6491228070175439|  \n",
      "4|  20|  0.0005622744560241699|  0.06541166588386448|  0.4|  0.6444444444444445|  \n",
      "5|  20|  0.0001417994499206543|  0.045672005754952893|  0.4426877470355731|  0.6444444444444445|  \n",
      "6|  20|  0.00012242794036865234|  0.04860021806039619|  0.4117647058823529|  0.6097560975609756|  \n",
      "7|  20|  0.00011192560195922851|  0.05500722066730117|  0.3877551020408163|  0.6097560975609756|  \n",
      "8|  20|  0.00012161731719970704|  0.0668166965782003|  0.4146341463414634|  0.7192982456140351|  \n",
      "9|  20|  0.00014666318893432617|  0.05657901732921669|  0.4666666666666667|  0.7192982456140351|  \n",
      "10|  20|  0.00013527870178222656|  0.06458517567481709|  0.45614035087719296|  0.7192982456140351|  \n",
      "11|  20|  0.00014570951461791992|  0.07969373079961989|  0.3333333333333333|  0.7192982456140351|  \n",
      "12|  20|  0.00011392831802368165|  0.06671848769266901|  0.46808510638297873|  0.7192982456140351|  \n",
      "13|  20|  0.00011148452758789063|  0.052278934500392525|  0.4334470989761092|  0.6666666666666666|  \n",
      "14|  20|  0.00015560388565063476|  0.07494159728802992|  0.40540540540540543|  0.7368421052631579|  \n",
      "15|  20|  0.00015174150466918946|  0.0640976179937692|  0.4055299539170507|  0.7368421052631579|  \n",
      "16|  20|  0.00012854337692260742|  0.056493540278307476|  0.3783783783783784|  0.6666666666666666|  \n",
      "17|  20|  0.00016056299209594728|  0.04170505654169043|  0.4782608695652174|  0.6666666666666666|  \n",
      "18|  20|  0.00012928247451782227|  0.06362386389539314|  0.4339622641509434|  0.72|  \n",
      "19|  20|  0.00022436380386352538|  0.05438362240677534|  0.4689265536723164|  0.72|  \n",
      "20|  20|  0.00016835927963256835|  0.060386628396263575|  0.44404332129963897|  0.72|  \n",
      "21|  20|  0.00023304224014282228|  0.06644666136626011|  0.4700854700854701|  0.72|  \n",
      "22|  20|  0.00021482706069946288|  0.058911002819926915|  0.4686131386861314|  0.72|  \n",
      "23|  20|  0.00020413398742675782|  0.05618255910352655|  0.4675324675324675|  0.72|  \n",
      "24|  20|  0.00014171600341796874|  0.07003956110749454|  0.44516129032258067|  0.8|  \n",
      "25|  20|  0.00010454654693603516|  0.07059479489495257|  0.42424242424242425|  0.7647058823529411|  \n",
      "26|  20|  9.728670120239258e-05|  0.08244117457286396|  0.4222222222222222|  0.7647058823529411|  \n",
      "27|  20|  0.0001132369041442871|  0.09602134169539535|  0.4|  0.7777777777777778|  \n",
      "28|  20|  0.00029975175857543945|  0.08206751472114183|  0.38461538461538464|  0.7647058823529411|  \n",
      "29|  20|  0.0001434803009033203|  0.06366000550021611|  0.38461538461538464|  0.6666666666666666|  \n",
      "30|  20|  0.00013737678527832032|  0.0551627436763198|  0.45864661654135336|  0.6666666666666666|  \n",
      "31|  20|  0.00018044710159301758|  0.03666297783890217|  0.43243243243243246|  0.5509433962264151|  \n",
      "32|  20|  0.0001825094223022461|  0.0421717368297623|  0.43010752688172044|  0.5780590717299579|  \n",
      "33|  20|  0.00016025304794311523|  0.025305785028538624|  0.47750865051903113|  0.5802469135802469|  \n",
      "34|  20|  0.00011928081512451172|  0.03141637321935341|  0.46236559139784944|  0.5679012345679012|  \n",
      "35|  20|  0.00011934041976928711|  0.03323336572551248|  0.4731182795698925|  0.5985401459854015|  \n",
      "36|  20|  0.00012400150299072266|  0.037268099431734064|  0.46153846153846156|  0.5985401459854015|  \n",
      "37|  20|  0.0001254558563232422|  0.04599601861234045|  0.4158415841584158|  0.5779816513761468|  \n",
      "38|  20|  0.00020592212677001954|  0.03589311857633393|  0.4605809128630705|  0.6|  \n",
      "39|  20|  0.0001470804214477539|  0.038998314574815306|  0.4827586206896552|  0.6277372262773723|  \n",
      "40|  20|  0.00012437105178833007|  0.0429721279169073|  0.472|  0.6277372262773723|  \n",
      "41|  20|  0.00013121366500854493|  0.04848112985927354|  0.44966442953020136|  0.6277372262773723|  \n",
      "42|  20|  0.00012841224670410157|  0.05431446422793422|  0.3783783783783784|  0.6277372262773723|  \n",
      "43|  20|  0.0001573801040649414|  0.04388433107928294|  0.4594594594594595|  0.6277372262773723|  \n",
      "44|  20|  0.00015188455581665038|  0.05072627146760706|  0.422680412371134|  0.6015325670498084|  \n",
      "45|  20|  0.00015959739685058593|  0.08979721116770584|  0.2|  0.610738255033557|  \n",
      "46|  20|  0.00014128684997558594|  0.042081295710726455|  0.422680412371134|  0.6015325670498084|  \n",
      "47|  20|  0.0002216815948486328|  0.04560585413573942|  0.4383561643835616|  0.6|  \n",
      "48|  20|  0.00018159151077270507|  0.0739001706723867|  0.3902439024390244|  0.8|  \n",
      "49|  20|  0.00012363195419311522|  0.07757750404474217|  0.43010752688172044|  0.8|  \n",
      "50|  20|  0.00012297630310058593|  0.08669001202280609|  0.3333333333333333|  0.8|  \n",
      "51|  20|  0.00016574859619140626|  0.045838986353890276|  0.43529411764705883|  0.6172839506172839|  \n",
      "52|  20|  0.00011110305786132812|  0.07669082760477697|  0.45454545454545453|  0.7777777777777778|  \n",
      "53|  20|  9.965896606445312e-05|  0.08213410524721702|  0.41379310344827586|  0.7777777777777778|  \n",
      "54|  20|  8.842945098876953e-05|  0.0908535361519583|  0.4|  0.7777777777777778|  \n",
      "55|  20|  0.0001536726951599121|  0.13228120736951146|  0.2|  0.7777777777777778|  \n",
      "56|  20|  0.00010520219802856445|  0.09044126137089482|  0.4117647058823529|  0.8|  \n",
      "57|  20|  0.00015358924865722657|  0.09272426151701722|  0.4|  0.8|  \n",
      "58|  20|  0.0001330733299255371|  0.09129596441269085|  0.38461538461538464|  0.8|  \n",
      "59|  20|  0.0001772284507751465|  0.08883470152397054|  0.4|  0.8|  \n",
      "60|  20|  0.00011533498764038086|  0.08559314665014044|  0.4490566037735849|  0.7777777777777778|  \n",
      "61|  20|  0.00011030435562133789|  0.07974604844467881|  0.38461538461538464|  0.7058823529411765|  \n",
      "62|  20|  0.0001759171485900879|  0.07518601584474276|  0.45614035087719296|  0.7692307692307693|  \n",
      "63|  20|  0.00010707378387451172|  0.07187692357575866|  0.45454545454545453|  0.7692307692307693|  \n",
      "64|  20|  0.00010759830474853516|  0.08521100610387099|  0.43859649122807015|  0.7692307692307693|  \n",
      "65|  20|  0.00010327100753784179|  0.07454700086072091|  0.44554455445544555|  0.7692307692307693|  \n",
      "66|  20|  0.00010898113250732422|  0.09426827205692623|  0.3333333333333333|  0.7692307692307693|  \n",
      "67|  20|  0.00011298656463623046|  0.05352444048232987|  0.40540540540540543|  0.6153846153846154|  \n",
      "68|  20|  0.00010906457901000976|  0.05550131834750593|  0.4|  0.6190476190476191|  \n",
      "69|  20|  9.362697601318359e-05|  0.057681131544567915|  0.41379310344827586|  0.6190476190476191|  \n",
      "70|  20|  0.00011225938796997071|  0.04974729052257158|  0.45614035087719296|  0.6206896551724138|  \n",
      "71|  20|  9.462833404541015e-05|  0.0539813536755413|  0.4|  0.6206896551724138|  \n",
      "72|  20|  9.857416152954101e-05|  0.050620127281069086|  0.45454545454545453|  0.6229508196721312|  \n",
      "73|  20|  9.908676147460938e-05|  0.05084377838181719|  0.45864661654135336|  0.6206896551724138|  \n",
      "74|  20|  0.00012999773025512695|  0.04978916006567916|  0.4396887159533074|  0.6206896551724138|  \n",
      "75|  20|  0.00012271404266357423|  0.057356371507248996|  0.46938775510204084|  0.7142857142857143|  \n",
      "76|  20|  0.00013010501861572267|  0.040536239369776655|  0.4482758620689655|  0.6046511627906976|  \n",
      "77|  20|  0.00017060041427612304|  0.030972219512982253|  0.4806201550387597|  0.6|  \n",
      "78|  20|  0.00015114545822143556|  0.030375072209827637|  0.4358974358974359|  0.5714285714285714|  \n",
      "79|  20|  0.00012192726135253906|  0.06220167012940843|  0.2857142857142857|  0.576271186440678|  \n",
      "80|  20|  0.00011941194534301758|  0.03779443439796904|  0.43410852713178294|  0.5816993464052288|  \n",
      "81|  20|  0.00014995336532592775|  0.030006743779314705|  0.4482758620689655|  0.5714285714285714|  \n",
      "82|  20|  0.00015474557876586913|  0.0548435628602085|  0.38095238095238093|  0.6741573033707865|  \n",
      "83|  20|  0.00011982917785644532|  0.05076883145665302|  0.38271604938271603|  0.5882352941176471|  \n",
      "84|  20|  0.00015716552734375|  0.04885969618354894|  0.41237113402061853|  0.6666666666666666|  \n",
      "85|  20|  0.00011360645294189453|  0.06528202618237408|  0.424|  0.6666666666666666|  \n",
      "86|  20|  0.00014514923095703124|  0.066499151088418|  0.38461538461538464|  0.6666666666666666|  \n",
      "87|  20|  0.00015799999237060548|  0.0595017477988407|  0.38461538461538464|  0.6666666666666666|  \n",
      "88|  20|  0.00018186569213867186|  0.048154978587446336|  0.44329896907216493|  0.6666666666666666|  \n",
      "89|  20|  0.00011609792709350586|  0.08092784941457656|  0.4713375796178344|  0.8|  \n",
      "90|  20|  0.00010155439376831054|  0.08200140488036436|  0.3170731707317073|  0.8|  \n",
      "91|  20|  0.00011391639709472657|  0.04394408520001492|  0.42857142857142855|  0.6095238095238096|  \n",
      "92|  20|  0.00010613203048706054|  0.08872079272580062|  0.2|  0.6551724137931034|  \n",
      "93|  20|  0.00010069608688354493|  0.06626633393728133|  0.3333333333333333|  0.6551724137931034|  \n",
      "94|  20|  0.00011451244354248047|  0.05788433784754598|  0.48218029350104824|  0.72|  \n",
      "95|  20|  0.00010515451431274414|  0.07142124892237221|  0.36363636363636365|  0.72|  \n",
      "96|  20|  0.00010648965835571289|  0.06188815691216723|  0.3939393939393939|  0.6486486486486487|  \n",
      "97|  20|  0.00012286901473999024|  0.04590549878541133|  0.4608294930875576|  0.6235294117647059|  \n",
      "98|  20|  0.0001689434051513672|  0.04025452638113486|  0.4492753623188406|  0.6235294117647059|  \n",
      "99|  20|  0.00015338659286499024|  0.036228692186587336|  0.48226950354609927|  0.6235294117647059|  \n",
      "100|  20|  0.0001858949661254883|  0.048616760425099374|  0.37681159420289856|  0.5757575757575758|  \n",
      "101|  20|  0.00016863346099853515|  0.04082174812431137|  0.4|  0.6|  \n",
      "102|  20|  0.0002440810203552246|  0.040124580810361875|  0.42857142857142855|  0.5773195876288659|  \n",
      "103|  20|  0.00018712282180786133|  0.033187275453271284|  0.467005076142132|  0.5773195876288659|  \n",
      "104|  20|  0.00015329122543334962|  0.0397250110700141|  0.45112781954887216|  0.6065573770491803|  \n",
      "105|  20|  0.00011394023895263671|  0.0363559496997513|  0.42735042735042733|  0.5764705882352941|  \n",
      "106|  20|  0.0001934528350830078|  0.06960880877718537|  0.2857142857142857|  0.5764705882352941|  \n",
      "107|  20|  0.00011813640594482422|  0.04750846993893734|  0.4444444444444444|  0.611764705882353|  \n",
      "108|  20|  0.00014066696166992188|  0.03680605604836063|  0.4588235294117647|  0.611764705882353|  \n",
      "109|  20|  0.00012117624282836914|  0.052795562896430226|  0.3783783783783784|  0.6352941176470588|  \n",
      "110|  20|  0.0001178741455078125|  0.047717433570828166|  0.4444444444444444|  0.6352941176470588|  \n",
      "111|  20|  0.00019617080688476561|  0.054477666253253496|  0.4146341463414634|  0.6352941176470588|  \n",
      "112|  20|  0.00022678375244140626|  0.05346465568888937|  0.422680412371134|  0.6039603960396039|  \n",
      "113|  20|  0.00023381710052490235|  0.06255842690193156|  0.3655913978494624|  0.6039603960396039|  \n",
      "114|  20|  0.00018498897552490234|  0.06034375944613782|  0.35294117647058826|  0.6138613861386139|  \n",
      "115|  20|  0.00018121004104614257|  0.04557431344291901|  0.4482758620689655|  0.6138613861386139|  \n",
      "116|  20|  0.0002341747283935547|  0.0514632297128665|  0.41379310344827586|  0.6138613861386139|  \n",
      "117|  20|  0.00018306970596313477|  0.05231305076763919|  0.4098360655737705|  0.6216216216216216|  \n",
      "118|  20|  0.00013233423233032225|  0.03464301989259977|  0.44751381215469616|  0.5945945945945946|  \n",
      "119|  20|  0.0001871466636657715|  0.027826786558573652|  0.4668769716088328|  0.5686274509803921|  \n",
      "120|  20|  0.00021522045135498048|  0.04602564934783432|  0.3508771929824561|  0.5686274509803921|  \n",
      "121|  20|  0.0001383066177368164|  0.03004707512440228|  0.4740882917466411|  0.6115702479338843|  \n",
      "122|  20|  0.00015981197357177733|  0.039268990537110644|  0.4444444444444444|  0.5900621118012422|  \n",
      "123|  20|  0.0002456545829772949|  0.03731178310885328|  0.463768115942029|  0.6288659793814433|  \n",
      "124|  20|  0.00022104978561401367|  0.045310326584747894|  0.4689655172413793|  0.6288659793814433|  \n",
      "125|  20|  0.00020941495895385743|  0.04962010257082982|  0.44|  0.6288659793814433|  \n",
      "126|  20|  0.00021517276763916016|  0.05374240414408432|  0.3939393939393939|  0.6288659793814433|  \n",
      "127|  20|  0.00022730827331542968|  0.06668335973417462|  0.29411764705882354|  0.6288659793814433|  \n",
      "128|  20|  0.00015088319778442383|  0.08461877846288489|  0.2|  0.64|  \n",
      "129|  20|  0.00035051107406616213|  0.08469094160275933|  0.2|  0.6288659793814433|  \n",
      "130|  20|  0.00035734176635742186|  0.052665480054347555|  0.42696629213483145|  0.6288659793814433|  \n",
      "131|  20|  0.0002690553665161133|  0.07465888371445034|  0.46246973365617433|  0.8|  \n",
      "132|  20|  0.00014600753784179687|  0.07204778037730722|  0.4691358024691358|  0.8|  \n",
      "133|  20|  0.00011867284774780273|  0.052310630485929495|  0.43859649122807015|  0.6288659793814433|  \n",
      "134|  20|  0.00011159181594848633|  0.06181776914767803|  0.3333333333333333|  0.6288659793814433|  \n",
      "135|  20|  0.00017284154891967775|  0.047453059396483366|  0.48872180451127817|  0.6923076923076923|  \n",
      "136|  20|  0.00022753477096557618|  0.03369860990807227|  0.4835680751173709|  0.6|  \n",
      "137|  20|  0.00021802186965942384|  0.03963279758434331|  0.4519774011299435|  0.6|  \n",
      "138|  20|  0.00015325546264648436|  0.046345017402803744|  0.45685279187817257|  0.6666666666666666|  \n",
      "139|  20|  0.00016586780548095704|  0.04977214107121345|  0.44525547445255476|  0.6666666666666666|  \n",
      "140|  20|  0.00017347335815429688|  0.04881514141023065|  0.4222222222222222|  0.5974025974025974|  \n",
      "141|  20|  0.00014829635620117188|  0.038355438277172416|  0.41935483870967744|  0.5929203539823009|  \n",
      "142|  20|  0.000196230411529541|  0.037599657468739014|  0.45161290322580644|  0.5929203539823009|  \n",
      "143|  20|  0.0002591133117675781|  0.040414337795590574|  0.4675324675324675|  0.6086956521739131|  \n",
      "144|  20|  0.0003170967102050781|  0.032836124851642313|  0.47706422018348627|  0.5767634854771784|  \n",
      "145|  20|  0.00027538537979125975|  0.04041823861555039|  0.4383561643835616|  0.5767634854771784|  \n",
      "146|  20|  0.0002442240715026855|  0.039027607492809285|  0.4658385093167702|  0.5844155844155844|  \n",
      "147|  20|  0.0001913309097290039|  0.03569157564331955|  0.4782608695652174|  0.6140350877192983|  \n",
      "148|  20|  0.00022224187850952148|  0.08183789377444163|  0.2222222222222222|  0.5964912280701754|  \n",
      "149|  20|  0.00018717050552368163|  0.04239291461298817|  0.48014440433212996|  0.6666666666666666|  \n",
      "150|  20|  0.00025463104248046875|  0.05217574178979912|  0.4577777777777778|  0.6666666666666666|  \n",
      "151|  20|  0.0001630067825317383|  0.05479962714461489|  0.4660633484162896|  0.6666666666666666|  \n",
      "152|  20|  0.00010620355606079101|  0.05436914827106041|  0.4594594594594595|  0.6666666666666666|  \n",
      "153|  20|  0.00013759136199951172|  0.053238038520032206|  0.4383561643835616|  0.6666666666666666|  \n",
      "154|  20|  0.00012285709381103515|  0.056933561009055236|  0.42483660130718953|  0.6666666666666666|  \n",
      "155|  20|  0.0001017928123474121|  0.055232329732730935|  0.39823008849557523|  0.6666666666666666|  \n",
      "156|  20|  0.0001167893409729004|  0.07476066779730241|  0.3333333333333333|  0.6190476190476191|  \n",
      "157|  20|  0.00013964176177978517|  0.06762421139434373|  0.41379310344827586|  0.7058823529411765|  \n",
      "158|  20|  0.00011535882949829102|  0.06850074591208669|  0.40875912408759124|  0.7058823529411765|  \n",
      "159|  20|  0.00013500452041625977|  0.056796481758140005|  0.44554455445544555|  0.7058823529411765|  \n",
      "160|  20|  0.0001865386962890625|  0.07898771954286335|  0.45901639344262296|  0.7647058823529411|  \n",
      "161|  20|  0.00027643442153930665|  0.07535556593537426|  0.42857142857142855|  0.7647058823529411|  \n",
      "162|  20|  0.00021777153015136718|  0.08289268051004067|  0.4444444444444444|  0.7647058823529411|  \n",
      "163|  20|  0.00015592575073242188|  0.07982240851774225|  0.42028985507246375|  0.7647058823529411|  \n",
      "164|  20|  0.0001531839370727539|  0.05279385096102332|  0.4700854700854701|  0.6470588235294118|  \n",
      "165|  20|  0.0001025080680847168|  0.07329618062626647|  0.35294117647058826|  0.6666666666666666|  \n",
      "166|  20|  0.00017424821853637696|  0.05813347578908134|  0.4117647058823529|  0.6666666666666666|  \n",
      "167|  20|  0.00010755062103271485|  0.05189866492507316|  0.4157303370786517|  0.6666666666666666|  \n",
      "168|  20|  0.00010826587677001954|  0.051501550301967035|  0.47804878048780486|  0.6666666666666666|  \n",
      "169|  20|  0.00010145902633666992|  0.11066100734314857|  0.4492753623188406|  1.0|  \n",
      "avg_time =  0.02724277973175049\n"
     ]
    }
   ],
   "source": [
    "description = {\"Name1\":{\"quantity\":[1], \"values\":[[0,1]]},\n",
    "               \"Name2\":{\"quantity\":range(1,100), \"values\":[[0, 1],[0, 1], [0,1], [0,1]]}\n",
    "               }\n",
    "\n",
    "pop_size=20\n",
    "pop = Population(description=description, evaluate=allone, fitness_target = 1, task_type=TaskType.MAX)\n",
    "pop.extend( inits.initRandom(pop.description,size=pop_size) )\n",
    "\n",
    "#create statslog\n",
    "sl = StatsLog(funcs=[pop_len, avg_time, std_fit, min_fit, max_fit, best_indvdls], viznt_funcs=[best_indvdls])\n",
    "\n",
    "#start algorithm randwhilefalse\n",
    "sel_size = int(np.round(pop_size*0.4))\n",
    "cros_size = int(np.round(pop_size*0.3)) # couples\n",
    "mut_size = int(np.round(pop_size*0.3))\n",
    "best_pop = algs.randwhilefalse(pop, sel_size=sel_size, tour_size=2, cros_size=cros_size, mut_size=mut_size, statslog=sl)\n",
    "print(f\"avg_time = \", np.sum([ sl.log[log_key][\"avg_time\"] for log_key in sl.log ]) )"
   ]
  },
  {
   "cell_type": "code",
   "execution_count": 16,
   "metadata": {},
   "outputs": [
    {
     "output_type": "execute_result",
     "data": {
      "text/plain": [
       "[{'Name1': [[1]], 'Name2': [[1, 1, 1, 1]]}]"
      ]
     },
     "metadata": {},
     "execution_count": 16
    }
   ],
   "source": [
    "best_pop.best_indvdls()"
   ]
  },
  {
   "cell_type": "code",
   "execution_count": 17,
   "metadata": {},
   "outputs": [
    {
     "output_type": "execute_result",
     "data": {
      "text/plain": [
       "{'pop_len': 20,\n",
       " 'avg_time': 0.0002762436866760254,\n",
       " 'std_fit': 0.0778592352559338,\n",
       " 'min_fit': 0.24,\n",
       " 'max_fit': 0.6444444444444445,\n",
       " 'best_indvdls': [{'Name1': [[1]],\n",
       "   'Name2': [[1, 1, 1, 0],\n",
       "    [1, 0, 1, 1],\n",
       "    [1, 0, 1, 0],\n",
       "    [1, 0, 1, 0],\n",
       "    [1, 1, 1, 0],\n",
       "    [1, 1, 0, 1],\n",
       "    [1, 0, 1, 0],\n",
       "    [1, 0, 1, 0],\n",
       "    [0, 1, 1, 0],\n",
       "    [1, 1, 1, 1],\n",
       "    [1, 0, 1, 0]]}]}"
      ]
     },
     "metadata": {},
     "execution_count": 17
    }
   ],
   "source": [
    "sl.log[1]"
   ]
  },
  {
   "cell_type": "code",
   "execution_count": 18,
   "metadata": {},
   "outputs": [
    {
     "output_type": "display_data",
     "data": {
      "application/vnd.plotly.v1+json": {
       "config": {
        "plotlyServerURL": "https://plot.ly"
       },
       "data": [
        {
         "hoverlabel": {
          "namelength": 0
         },
         "hovertemplate": "x=%{x}<br>y=%{y}",
         "legendgroup": "",
         "line": {
          "color": "#636efa",
          "dash": "solid"
         },
         "mode": "lines",
         "name": "",
         "showlegend": false,
         "type": "scatter",
         "x": [
          1,
          2,
          3,
          4,
          5,
          6,
          7,
          8,
          9,
          10,
          11,
          12,
          13,
          14,
          15,
          16,
          17,
          18,
          19,
          20,
          21,
          22,
          23,
          24,
          25,
          26,
          27,
          28,
          29,
          30,
          31,
          32,
          33,
          34,
          35,
          36,
          37,
          38,
          39,
          40,
          41,
          42,
          43,
          44,
          45,
          46,
          47,
          48,
          49,
          50,
          51,
          52,
          53,
          54,
          55,
          56,
          57,
          58,
          59,
          60,
          61,
          62,
          63,
          64,
          65,
          66,
          67,
          68,
          69,
          70,
          71,
          72,
          73,
          74,
          75,
          76,
          77,
          78,
          79,
          80,
          81,
          82,
          83,
          84,
          85,
          86,
          87,
          88,
          89,
          90,
          91,
          92,
          93,
          94,
          95,
          96,
          97,
          98,
          99,
          100,
          101,
          102,
          103,
          104,
          105,
          106,
          107,
          108,
          109,
          110,
          111,
          112,
          113,
          114,
          115,
          116,
          117,
          118,
          119,
          120,
          121,
          122,
          123,
          124,
          125,
          126,
          127,
          128,
          129,
          130,
          131,
          132,
          133,
          134,
          135,
          136,
          137,
          138,
          139,
          140,
          141,
          142,
          143,
          144,
          145,
          146,
          147,
          148,
          149,
          150,
          151,
          152,
          153,
          154,
          155,
          156,
          157,
          158,
          159,
          160,
          161,
          162,
          163,
          164,
          165,
          166,
          167,
          168,
          169
         ],
         "xaxis": "x",
         "y": [
          0.6444444444444445,
          0.6444444444444445,
          0.6491228070175439,
          0.6444444444444445,
          0.6444444444444445,
          0.6097560975609756,
          0.6097560975609756,
          0.7192982456140351,
          0.7192982456140351,
          0.7192982456140351,
          0.7192982456140351,
          0.7192982456140351,
          0.6666666666666666,
          0.7368421052631579,
          0.7368421052631579,
          0.6666666666666666,
          0.6666666666666666,
          0.72,
          0.72,
          0.72,
          0.72,
          0.72,
          0.72,
          0.8,
          0.7647058823529411,
          0.7647058823529411,
          0.7777777777777778,
          0.7647058823529411,
          0.6666666666666666,
          0.6666666666666666,
          0.5509433962264151,
          0.5780590717299579,
          0.5802469135802469,
          0.5679012345679012,
          0.5985401459854015,
          0.5985401459854015,
          0.5779816513761468,
          0.6,
          0.6277372262773723,
          0.6277372262773723,
          0.6277372262773723,
          0.6277372262773723,
          0.6277372262773723,
          0.6015325670498084,
          0.610738255033557,
          0.6015325670498084,
          0.6,
          0.8,
          0.8,
          0.8,
          0.6172839506172839,
          0.7777777777777778,
          0.7777777777777778,
          0.7777777777777778,
          0.7777777777777778,
          0.8,
          0.8,
          0.8,
          0.8,
          0.7777777777777778,
          0.7058823529411765,
          0.7692307692307693,
          0.7692307692307693,
          0.7692307692307693,
          0.7692307692307693,
          0.7692307692307693,
          0.6153846153846154,
          0.6190476190476191,
          0.6190476190476191,
          0.6206896551724138,
          0.6206896551724138,
          0.6229508196721312,
          0.6206896551724138,
          0.6206896551724138,
          0.7142857142857143,
          0.6046511627906976,
          0.6,
          0.5714285714285714,
          0.576271186440678,
          0.5816993464052288,
          0.5714285714285714,
          0.6741573033707865,
          0.5882352941176471,
          0.6666666666666666,
          0.6666666666666666,
          0.6666666666666666,
          0.6666666666666666,
          0.6666666666666666,
          0.8,
          0.8,
          0.6095238095238096,
          0.6551724137931034,
          0.6551724137931034,
          0.72,
          0.72,
          0.6486486486486487,
          0.6235294117647059,
          0.6235294117647059,
          0.6235294117647059,
          0.5757575757575758,
          0.6,
          0.5773195876288659,
          0.5773195876288659,
          0.6065573770491803,
          0.5764705882352941,
          0.5764705882352941,
          0.611764705882353,
          0.611764705882353,
          0.6352941176470588,
          0.6352941176470588,
          0.6352941176470588,
          0.6039603960396039,
          0.6039603960396039,
          0.6138613861386139,
          0.6138613861386139,
          0.6138613861386139,
          0.6216216216216216,
          0.5945945945945946,
          0.5686274509803921,
          0.5686274509803921,
          0.6115702479338843,
          0.5900621118012422,
          0.6288659793814433,
          0.6288659793814433,
          0.6288659793814433,
          0.6288659793814433,
          0.6288659793814433,
          0.64,
          0.6288659793814433,
          0.6288659793814433,
          0.8,
          0.8,
          0.6288659793814433,
          0.6288659793814433,
          0.6923076923076923,
          0.6,
          0.6,
          0.6666666666666666,
          0.6666666666666666,
          0.5974025974025974,
          0.5929203539823009,
          0.5929203539823009,
          0.6086956521739131,
          0.5767634854771784,
          0.5767634854771784,
          0.5844155844155844,
          0.6140350877192983,
          0.5964912280701754,
          0.6666666666666666,
          0.6666666666666666,
          0.6666666666666666,
          0.6666666666666666,
          0.6666666666666666,
          0.6666666666666666,
          0.6666666666666666,
          0.6190476190476191,
          0.7058823529411765,
          0.7058823529411765,
          0.7058823529411765,
          0.7647058823529411,
          0.7647058823529411,
          0.7647058823529411,
          0.7647058823529411,
          0.6470588235294118,
          0.6666666666666666,
          0.6666666666666666,
          0.6666666666666666,
          0.6666666666666666,
          1
         ],
         "yaxis": "y"
        }
       ],
       "layout": {
        "legend": {
         "tracegroupgap": 0
        },
        "margin": {
         "t": 60
        },
        "template": {
         "data": {
          "bar": [
           {
            "error_x": {
             "color": "#2a3f5f"
            },
            "error_y": {
             "color": "#2a3f5f"
            },
            "marker": {
             "line": {
              "color": "#E5ECF6",
              "width": 0.5
             }
            },
            "type": "bar"
           }
          ],
          "barpolar": [
           {
            "marker": {
             "line": {
              "color": "#E5ECF6",
              "width": 0.5
             }
            },
            "type": "barpolar"
           }
          ],
          "carpet": [
           {
            "aaxis": {
             "endlinecolor": "#2a3f5f",
             "gridcolor": "white",
             "linecolor": "white",
             "minorgridcolor": "white",
             "startlinecolor": "#2a3f5f"
            },
            "baxis": {
             "endlinecolor": "#2a3f5f",
             "gridcolor": "white",
             "linecolor": "white",
             "minorgridcolor": "white",
             "startlinecolor": "#2a3f5f"
            },
            "type": "carpet"
           }
          ],
          "choropleth": [
           {
            "colorbar": {
             "outlinewidth": 0,
             "ticks": ""
            },
            "type": "choropleth"
           }
          ],
          "contour": [
           {
            "colorbar": {
             "outlinewidth": 0,
             "ticks": ""
            },
            "colorscale": [
             [
              0,
              "#0d0887"
             ],
             [
              0.1111111111111111,
              "#46039f"
             ],
             [
              0.2222222222222222,
              "#7201a8"
             ],
             [
              0.3333333333333333,
              "#9c179e"
             ],
             [
              0.4444444444444444,
              "#bd3786"
             ],
             [
              0.5555555555555556,
              "#d8576b"
             ],
             [
              0.6666666666666666,
              "#ed7953"
             ],
             [
              0.7777777777777778,
              "#fb9f3a"
             ],
             [
              0.8888888888888888,
              "#fdca26"
             ],
             [
              1,
              "#f0f921"
             ]
            ],
            "type": "contour"
           }
          ],
          "contourcarpet": [
           {
            "colorbar": {
             "outlinewidth": 0,
             "ticks": ""
            },
            "type": "contourcarpet"
           }
          ],
          "heatmap": [
           {
            "colorbar": {
             "outlinewidth": 0,
             "ticks": ""
            },
            "colorscale": [
             [
              0,
              "#0d0887"
             ],
             [
              0.1111111111111111,
              "#46039f"
             ],
             [
              0.2222222222222222,
              "#7201a8"
             ],
             [
              0.3333333333333333,
              "#9c179e"
             ],
             [
              0.4444444444444444,
              "#bd3786"
             ],
             [
              0.5555555555555556,
              "#d8576b"
             ],
             [
              0.6666666666666666,
              "#ed7953"
             ],
             [
              0.7777777777777778,
              "#fb9f3a"
             ],
             [
              0.8888888888888888,
              "#fdca26"
             ],
             [
              1,
              "#f0f921"
             ]
            ],
            "type": "heatmap"
           }
          ],
          "heatmapgl": [
           {
            "colorbar": {
             "outlinewidth": 0,
             "ticks": ""
            },
            "colorscale": [
             [
              0,
              "#0d0887"
             ],
             [
              0.1111111111111111,
              "#46039f"
             ],
             [
              0.2222222222222222,
              "#7201a8"
             ],
             [
              0.3333333333333333,
              "#9c179e"
             ],
             [
              0.4444444444444444,
              "#bd3786"
             ],
             [
              0.5555555555555556,
              "#d8576b"
             ],
             [
              0.6666666666666666,
              "#ed7953"
             ],
             [
              0.7777777777777778,
              "#fb9f3a"
             ],
             [
              0.8888888888888888,
              "#fdca26"
             ],
             [
              1,
              "#f0f921"
             ]
            ],
            "type": "heatmapgl"
           }
          ],
          "histogram": [
           {
            "marker": {
             "colorbar": {
              "outlinewidth": 0,
              "ticks": ""
             }
            },
            "type": "histogram"
           }
          ],
          "histogram2d": [
           {
            "colorbar": {
             "outlinewidth": 0,
             "ticks": ""
            },
            "colorscale": [
             [
              0,
              "#0d0887"
             ],
             [
              0.1111111111111111,
              "#46039f"
             ],
             [
              0.2222222222222222,
              "#7201a8"
             ],
             [
              0.3333333333333333,
              "#9c179e"
             ],
             [
              0.4444444444444444,
              "#bd3786"
             ],
             [
              0.5555555555555556,
              "#d8576b"
             ],
             [
              0.6666666666666666,
              "#ed7953"
             ],
             [
              0.7777777777777778,
              "#fb9f3a"
             ],
             [
              0.8888888888888888,
              "#fdca26"
             ],
             [
              1,
              "#f0f921"
             ]
            ],
            "type": "histogram2d"
           }
          ],
          "histogram2dcontour": [
           {
            "colorbar": {
             "outlinewidth": 0,
             "ticks": ""
            },
            "colorscale": [
             [
              0,
              "#0d0887"
             ],
             [
              0.1111111111111111,
              "#46039f"
             ],
             [
              0.2222222222222222,
              "#7201a8"
             ],
             [
              0.3333333333333333,
              "#9c179e"
             ],
             [
              0.4444444444444444,
              "#bd3786"
             ],
             [
              0.5555555555555556,
              "#d8576b"
             ],
             [
              0.6666666666666666,
              "#ed7953"
             ],
             [
              0.7777777777777778,
              "#fb9f3a"
             ],
             [
              0.8888888888888888,
              "#fdca26"
             ],
             [
              1,
              "#f0f921"
             ]
            ],
            "type": "histogram2dcontour"
           }
          ],
          "mesh3d": [
           {
            "colorbar": {
             "outlinewidth": 0,
             "ticks": ""
            },
            "type": "mesh3d"
           }
          ],
          "parcoords": [
           {
            "line": {
             "colorbar": {
              "outlinewidth": 0,
              "ticks": ""
             }
            },
            "type": "parcoords"
           }
          ],
          "pie": [
           {
            "automargin": true,
            "type": "pie"
           }
          ],
          "scatter": [
           {
            "marker": {
             "colorbar": {
              "outlinewidth": 0,
              "ticks": ""
             }
            },
            "type": "scatter"
           }
          ],
          "scatter3d": [
           {
            "line": {
             "colorbar": {
              "outlinewidth": 0,
              "ticks": ""
             }
            },
            "marker": {
             "colorbar": {
              "outlinewidth": 0,
              "ticks": ""
             }
            },
            "type": "scatter3d"
           }
          ],
          "scattercarpet": [
           {
            "marker": {
             "colorbar": {
              "outlinewidth": 0,
              "ticks": ""
             }
            },
            "type": "scattercarpet"
           }
          ],
          "scattergeo": [
           {
            "marker": {
             "colorbar": {
              "outlinewidth": 0,
              "ticks": ""
             }
            },
            "type": "scattergeo"
           }
          ],
          "scattergl": [
           {
            "marker": {
             "colorbar": {
              "outlinewidth": 0,
              "ticks": ""
             }
            },
            "type": "scattergl"
           }
          ],
          "scattermapbox": [
           {
            "marker": {
             "colorbar": {
              "outlinewidth": 0,
              "ticks": ""
             }
            },
            "type": "scattermapbox"
           }
          ],
          "scatterpolar": [
           {
            "marker": {
             "colorbar": {
              "outlinewidth": 0,
              "ticks": ""
             }
            },
            "type": "scatterpolar"
           }
          ],
          "scatterpolargl": [
           {
            "marker": {
             "colorbar": {
              "outlinewidth": 0,
              "ticks": ""
             }
            },
            "type": "scatterpolargl"
           }
          ],
          "scatterternary": [
           {
            "marker": {
             "colorbar": {
              "outlinewidth": 0,
              "ticks": ""
             }
            },
            "type": "scatterternary"
           }
          ],
          "surface": [
           {
            "colorbar": {
             "outlinewidth": 0,
             "ticks": ""
            },
            "colorscale": [
             [
              0,
              "#0d0887"
             ],
             [
              0.1111111111111111,
              "#46039f"
             ],
             [
              0.2222222222222222,
              "#7201a8"
             ],
             [
              0.3333333333333333,
              "#9c179e"
             ],
             [
              0.4444444444444444,
              "#bd3786"
             ],
             [
              0.5555555555555556,
              "#d8576b"
             ],
             [
              0.6666666666666666,
              "#ed7953"
             ],
             [
              0.7777777777777778,
              "#fb9f3a"
             ],
             [
              0.8888888888888888,
              "#fdca26"
             ],
             [
              1,
              "#f0f921"
             ]
            ],
            "type": "surface"
           }
          ],
          "table": [
           {
            "cells": {
             "fill": {
              "color": "#EBF0F8"
             },
             "line": {
              "color": "white"
             }
            },
            "header": {
             "fill": {
              "color": "#C8D4E3"
             },
             "line": {
              "color": "white"
             }
            },
            "type": "table"
           }
          ]
         },
         "layout": {
          "annotationdefaults": {
           "arrowcolor": "#2a3f5f",
           "arrowhead": 0,
           "arrowwidth": 1
          },
          "coloraxis": {
           "colorbar": {
            "outlinewidth": 0,
            "ticks": ""
           }
          },
          "colorscale": {
           "diverging": [
            [
             0,
             "#8e0152"
            ],
            [
             0.1,
             "#c51b7d"
            ],
            [
             0.2,
             "#de77ae"
            ],
            [
             0.3,
             "#f1b6da"
            ],
            [
             0.4,
             "#fde0ef"
            ],
            [
             0.5,
             "#f7f7f7"
            ],
            [
             0.6,
             "#e6f5d0"
            ],
            [
             0.7,
             "#b8e186"
            ],
            [
             0.8,
             "#7fbc41"
            ],
            [
             0.9,
             "#4d9221"
            ],
            [
             1,
             "#276419"
            ]
           ],
           "sequential": [
            [
             0,
             "#0d0887"
            ],
            [
             0.1111111111111111,
             "#46039f"
            ],
            [
             0.2222222222222222,
             "#7201a8"
            ],
            [
             0.3333333333333333,
             "#9c179e"
            ],
            [
             0.4444444444444444,
             "#bd3786"
            ],
            [
             0.5555555555555556,
             "#d8576b"
            ],
            [
             0.6666666666666666,
             "#ed7953"
            ],
            [
             0.7777777777777778,
             "#fb9f3a"
            ],
            [
             0.8888888888888888,
             "#fdca26"
            ],
            [
             1,
             "#f0f921"
            ]
           ],
           "sequentialminus": [
            [
             0,
             "#0d0887"
            ],
            [
             0.1111111111111111,
             "#46039f"
            ],
            [
             0.2222222222222222,
             "#7201a8"
            ],
            [
             0.3333333333333333,
             "#9c179e"
            ],
            [
             0.4444444444444444,
             "#bd3786"
            ],
            [
             0.5555555555555556,
             "#d8576b"
            ],
            [
             0.6666666666666666,
             "#ed7953"
            ],
            [
             0.7777777777777778,
             "#fb9f3a"
            ],
            [
             0.8888888888888888,
             "#fdca26"
            ],
            [
             1,
             "#f0f921"
            ]
           ]
          },
          "colorway": [
           "#636efa",
           "#EF553B",
           "#00cc96",
           "#ab63fa",
           "#FFA15A",
           "#19d3f3",
           "#FF6692",
           "#B6E880",
           "#FF97FF",
           "#FECB52"
          ],
          "font": {
           "color": "#2a3f5f"
          },
          "geo": {
           "bgcolor": "white",
           "lakecolor": "white",
           "landcolor": "#E5ECF6",
           "showlakes": true,
           "showland": true,
           "subunitcolor": "white"
          },
          "hoverlabel": {
           "align": "left"
          },
          "hovermode": "closest",
          "mapbox": {
           "style": "light"
          },
          "paper_bgcolor": "white",
          "plot_bgcolor": "#E5ECF6",
          "polar": {
           "angularaxis": {
            "gridcolor": "white",
            "linecolor": "white",
            "ticks": ""
           },
           "bgcolor": "#E5ECF6",
           "radialaxis": {
            "gridcolor": "white",
            "linecolor": "white",
            "ticks": ""
           }
          },
          "scene": {
           "xaxis": {
            "backgroundcolor": "#E5ECF6",
            "gridcolor": "white",
            "gridwidth": 2,
            "linecolor": "white",
            "showbackground": true,
            "ticks": "",
            "zerolinecolor": "white"
           },
           "yaxis": {
            "backgroundcolor": "#E5ECF6",
            "gridcolor": "white",
            "gridwidth": 2,
            "linecolor": "white",
            "showbackground": true,
            "ticks": "",
            "zerolinecolor": "white"
           },
           "zaxis": {
            "backgroundcolor": "#E5ECF6",
            "gridcolor": "white",
            "gridwidth": 2,
            "linecolor": "white",
            "showbackground": true,
            "ticks": "",
            "zerolinecolor": "white"
           }
          },
          "shapedefaults": {
           "line": {
            "color": "#2a3f5f"
           }
          },
          "ternary": {
           "aaxis": {
            "gridcolor": "white",
            "linecolor": "white",
            "ticks": ""
           },
           "baxis": {
            "gridcolor": "white",
            "linecolor": "white",
            "ticks": ""
           },
           "bgcolor": "#E5ECF6",
           "caxis": {
            "gridcolor": "white",
            "linecolor": "white",
            "ticks": ""
           }
          },
          "title": {
           "x": 0.05
          },
          "xaxis": {
           "automargin": true,
           "gridcolor": "white",
           "linecolor": "white",
           "ticks": "",
           "title": {
            "standoff": 15
           },
           "zerolinecolor": "white",
           "zerolinewidth": 2
          },
          "yaxis": {
           "automargin": true,
           "gridcolor": "white",
           "linecolor": "white",
           "ticks": "",
           "title": {
            "standoff": 15
           },
           "zerolinecolor": "white",
           "zerolinewidth": 2
          }
         }
        },
        "xaxis": {
         "anchor": "y",
         "domain": [
          0,
          1
         ],
         "title": {
          "text": "x"
         }
        },
        "yaxis": {
         "anchor": "x",
         "domain": [
          0,
          1
         ],
         "title": {
          "text": "y"
         }
        }
       }
      }
     },
     "metadata": {}
    }
   ],
   "source": [
    "fig = pe.line(x=list(sl.log.keys()), y=[ sl.log[key][\"max_fit\"] for key in sl.log])\n",
    "fig.show()"
   ]
  },
  {
   "cell_type": "code",
   "execution_count": 19,
   "metadata": {},
   "outputs": [
    {
     "output_type": "stream",
     "name": "stdout",
     "text": [
      "gen|  pop_len|  avg_time|  std_fit|  min_fit|  max_fit|  \n",
      "1|  20|  0.0002694487571716309|  0.02683121972255691|  0.4461538461538462|  0.5412844036697247|  \n",
      "2|  20|  0.0002774357795715332|  0.030074800319121492|  0.43609022556390975|  0.5785123966942148|  \n",
      "3|  20|  0.00023766756057739258|  0.05392810329848876|  0.3333333333333333|  0.5785123966942148|  \n",
      "4|  20|  0.00020610094070434571|  0.03474912717413122|  0.45864661654135336|  0.6124031007751938|  \n",
      "5|  20|  0.00016629695892333984|  0.031568388800268514|  0.4679245283018868|  0.6114649681528662|  \n",
      "6|  20|  0.00019636154174804688|  0.030850343374522513|  0.42857142857142855|  0.5785123966942148|  \n",
      "7|  20|  0.0001710057258605957|  0.030359938213916162|  0.4339622641509434|  0.583756345177665|  \n",
      "8|  20|  0.00016289949417114258|  0.03673952585999688|  0.4377358490566038|  0.6226415094339622|  \n",
      "9|  20|  0.00017317533493041993|  0.02952629068714191|  0.4542124542124542|  0.5773195876288659|  \n",
      "avg_time =  0.0018603920936584475\n"
     ]
    }
   ],
   "source": [
    "description = {\"Name1\":{\"quantity\":[1], \"values\":[[0,1]]},\n",
    "               \"Name2\":{\"quantity\":range(1,100), \"values\":[[0, 1],[0, 1], [0,1], [0,1]]}\n",
    "               }\n",
    "\n",
    "pop_size=20\n",
    "pop = Population(description=description, evaluate=allone, fitness_target = 1, task_type=TaskType.MAX)\n",
    "pop.extend( inits.initRandom(pop.description,size=pop_size) )\n",
    "\n",
    "#create statslog\n",
    "sl = StatsLog(funcs=[pop_len, avg_time, std_fit, min_fit, max_fit, best_indvdls], viznt_funcs=[best_indvdls])\n",
    "\n",
    "#start algorithm randwhilefalse\n",
    "sel_size = int(np.round(pop_size*0.4))\n",
    "cros_size = int(np.round(pop_size*0.3)) # couples\n",
    "mut_size = int(np.round(pop_size*0.3))\n",
    "best_pop = algs.randngen(pop, ngen=10, sel_size=sel_size, tour_size=2, cros_size=cros_size, mut_size=mut_size, statslog=sl)\n",
    "print(f\"avg_time = \", np.sum([ sl.log[log_key][\"avg_time\"] for log_key in sl.log ]) )"
   ]
  },
  {
   "cell_type": "code",
   "execution_count": 20,
   "metadata": {},
   "outputs": [
    {
     "output_type": "execute_result",
     "data": {
      "text/plain": [
       "[{'Name1': [[0]],\n",
       "  'Name2': [[1, 1, 0, 1],\n",
       "   [1, 1, 1, 0],\n",
       "   [1, 0, 1, 1],\n",
       "   [0, 0, 1, 1],\n",
       "   [0, 1, 0, 1],\n",
       "   [1, 0, 1, 0],\n",
       "   [0, 1, 1, 1],\n",
       "   [1, 0, 1, 1],\n",
       "   [0, 0, 0, 1],\n",
       "   [1, 1, 1, 0],\n",
       "   [1, 1, 0, 1],\n",
       "   [1, 0, 0, 1],\n",
       "   [0, 0, 0, 0],\n",
       "   [0, 0, 0, 1],\n",
       "   [1, 1, 1, 0],\n",
       "   [1, 0, 1, 0],\n",
       "   [1, 0, 0, 1],\n",
       "   [1, 1, 1, 1],\n",
       "   [0, 0, 0, 0],\n",
       "   [1, 1, 0, 1],\n",
       "   [1, 1, 1, 0],\n",
       "   [1, 1, 1, 0],\n",
       "   [1, 1, 1, 0],\n",
       "   [0, 1, 1, 0]]}]"
      ]
     },
     "metadata": {},
     "execution_count": 20
    }
   ],
   "source": [
    "best_pop.best_indvdls()"
   ]
  },
  {
   "cell_type": "code",
   "execution_count": 21,
   "metadata": {},
   "outputs": [
    {
     "output_type": "execute_result",
     "data": {
      "text/plain": [
       "{'pop_len': 20,\n",
       " 'avg_time': 0.0002694487571716309,\n",
       " 'std_fit': 0.02683121972255691,\n",
       " 'min_fit': 0.4461538461538462,\n",
       " 'max_fit': 0.5412844036697247,\n",
       " 'best_indvdls': [{'Name1': [[1]],\n",
       "   'Name2': [[0, 1, 0, 1],\n",
       "    [0, 1, 0, 0],\n",
       "    [1, 1, 1, 0],\n",
       "    [1, 0, 1, 1],\n",
       "    [1, 0, 1, 0],\n",
       "    [1, 0, 1, 1],\n",
       "    [0, 0, 0, 1],\n",
       "    [1, 1, 1, 0],\n",
       "    [1, 1, 0, 1],\n",
       "    [0, 1, 1, 1],\n",
       "    [1, 0, 0, 0],\n",
       "    [0, 0, 0, 0],\n",
       "    [0, 0, 1, 0],\n",
       "    [0, 1, 1, 1],\n",
       "    [1, 0, 0, 1],\n",
       "    [1, 0, 0, 1],\n",
       "    [0, 1, 0, 1],\n",
       "    [1, 1, 0, 0],\n",
       "    [1, 0, 1, 0],\n",
       "    [1, 1, 1, 1],\n",
       "    [0, 1, 0, 1],\n",
       "    [1, 1, 1, 0],\n",
       "    [0, 0, 0, 1],\n",
       "    [1, 1, 1, 0],\n",
       "    [0, 0, 0, 1],\n",
       "    [0, 0, 1, 0],\n",
       "    [1, 1, 1, 1],\n",
       "    [0, 0, 1, 1],\n",
       "    [1, 0, 1, 0],\n",
       "    [1, 0, 1, 1],\n",
       "    [0, 0, 1, 0],\n",
       "    [0, 0, 1, 0],\n",
       "    [1, 0, 0, 0],\n",
       "    [1, 0, 0, 0],\n",
       "    [0, 0, 0, 0],\n",
       "    [1, 1, 0, 1],\n",
       "    [0, 1, 1, 1],\n",
       "    [1, 0, 1, 0],\n",
       "    [0, 1, 1, 1],\n",
       "    [0, 1, 0, 1],\n",
       "    [0, 1, 0, 0],\n",
       "    [1, 0, 0, 0],\n",
       "    [1, 0, 1, 1],\n",
       "    [0, 0, 0, 1],\n",
       "    [1, 0, 1, 1],\n",
       "    [1, 1, 1, 0],\n",
       "    [1, 0, 1, 1],\n",
       "    [1, 0, 1, 0],\n",
       "    [0, 0, 1, 1],\n",
       "    [1, 0, 0, 1],\n",
       "    [0, 1, 0, 0],\n",
       "    [1, 1, 1, 1],\n",
       "    [0, 0, 0, 0],\n",
       "    [0, 1, 1, 1],\n",
       "    [0, 0, 1, 1],\n",
       "    [1, 0, 0, 1],\n",
       "    [0, 0, 0, 0],\n",
       "    [0, 1, 1, 1],\n",
       "    [1, 1, 1, 0]]}]}"
      ]
     },
     "metadata": {},
     "execution_count": 21
    }
   ],
   "source": [
    "sl.log[1]"
   ]
  },
  {
   "cell_type": "code",
   "execution_count": 22,
   "metadata": {},
   "outputs": [
    {
     "output_type": "display_data",
     "data": {
      "application/vnd.plotly.v1+json": {
       "config": {
        "plotlyServerURL": "https://plot.ly"
       },
       "data": [
        {
         "hoverlabel": {
          "namelength": 0
         },
         "hovertemplate": "x=%{x}<br>y=%{y}",
         "legendgroup": "",
         "line": {
          "color": "#636efa",
          "dash": "solid"
         },
         "mode": "lines",
         "name": "",
         "showlegend": false,
         "type": "scatter",
         "x": [
          1,
          2,
          3,
          4,
          5,
          6,
          7,
          8,
          9
         ],
         "xaxis": "x",
         "y": [
          0.5412844036697247,
          0.5785123966942148,
          0.5785123966942148,
          0.6124031007751938,
          0.6114649681528662,
          0.5785123966942148,
          0.583756345177665,
          0.6226415094339622,
          0.5773195876288659
         ],
         "yaxis": "y"
        }
       ],
       "layout": {
        "legend": {
         "tracegroupgap": 0
        },
        "margin": {
         "t": 60
        },
        "template": {
         "data": {
          "bar": [
           {
            "error_x": {
             "color": "#2a3f5f"
            },
            "error_y": {
             "color": "#2a3f5f"
            },
            "marker": {
             "line": {
              "color": "#E5ECF6",
              "width": 0.5
             }
            },
            "type": "bar"
           }
          ],
          "barpolar": [
           {
            "marker": {
             "line": {
              "color": "#E5ECF6",
              "width": 0.5
             }
            },
            "type": "barpolar"
           }
          ],
          "carpet": [
           {
            "aaxis": {
             "endlinecolor": "#2a3f5f",
             "gridcolor": "white",
             "linecolor": "white",
             "minorgridcolor": "white",
             "startlinecolor": "#2a3f5f"
            },
            "baxis": {
             "endlinecolor": "#2a3f5f",
             "gridcolor": "white",
             "linecolor": "white",
             "minorgridcolor": "white",
             "startlinecolor": "#2a3f5f"
            },
            "type": "carpet"
           }
          ],
          "choropleth": [
           {
            "colorbar": {
             "outlinewidth": 0,
             "ticks": ""
            },
            "type": "choropleth"
           }
          ],
          "contour": [
           {
            "colorbar": {
             "outlinewidth": 0,
             "ticks": ""
            },
            "colorscale": [
             [
              0,
              "#0d0887"
             ],
             [
              0.1111111111111111,
              "#46039f"
             ],
             [
              0.2222222222222222,
              "#7201a8"
             ],
             [
              0.3333333333333333,
              "#9c179e"
             ],
             [
              0.4444444444444444,
              "#bd3786"
             ],
             [
              0.5555555555555556,
              "#d8576b"
             ],
             [
              0.6666666666666666,
              "#ed7953"
             ],
             [
              0.7777777777777778,
              "#fb9f3a"
             ],
             [
              0.8888888888888888,
              "#fdca26"
             ],
             [
              1,
              "#f0f921"
             ]
            ],
            "type": "contour"
           }
          ],
          "contourcarpet": [
           {
            "colorbar": {
             "outlinewidth": 0,
             "ticks": ""
            },
            "type": "contourcarpet"
           }
          ],
          "heatmap": [
           {
            "colorbar": {
             "outlinewidth": 0,
             "ticks": ""
            },
            "colorscale": [
             [
              0,
              "#0d0887"
             ],
             [
              0.1111111111111111,
              "#46039f"
             ],
             [
              0.2222222222222222,
              "#7201a8"
             ],
             [
              0.3333333333333333,
              "#9c179e"
             ],
             [
              0.4444444444444444,
              "#bd3786"
             ],
             [
              0.5555555555555556,
              "#d8576b"
             ],
             [
              0.6666666666666666,
              "#ed7953"
             ],
             [
              0.7777777777777778,
              "#fb9f3a"
             ],
             [
              0.8888888888888888,
              "#fdca26"
             ],
             [
              1,
              "#f0f921"
             ]
            ],
            "type": "heatmap"
           }
          ],
          "heatmapgl": [
           {
            "colorbar": {
             "outlinewidth": 0,
             "ticks": ""
            },
            "colorscale": [
             [
              0,
              "#0d0887"
             ],
             [
              0.1111111111111111,
              "#46039f"
             ],
             [
              0.2222222222222222,
              "#7201a8"
             ],
             [
              0.3333333333333333,
              "#9c179e"
             ],
             [
              0.4444444444444444,
              "#bd3786"
             ],
             [
              0.5555555555555556,
              "#d8576b"
             ],
             [
              0.6666666666666666,
              "#ed7953"
             ],
             [
              0.7777777777777778,
              "#fb9f3a"
             ],
             [
              0.8888888888888888,
              "#fdca26"
             ],
             [
              1,
              "#f0f921"
             ]
            ],
            "type": "heatmapgl"
           }
          ],
          "histogram": [
           {
            "marker": {
             "colorbar": {
              "outlinewidth": 0,
              "ticks": ""
             }
            },
            "type": "histogram"
           }
          ],
          "histogram2d": [
           {
            "colorbar": {
             "outlinewidth": 0,
             "ticks": ""
            },
            "colorscale": [
             [
              0,
              "#0d0887"
             ],
             [
              0.1111111111111111,
              "#46039f"
             ],
             [
              0.2222222222222222,
              "#7201a8"
             ],
             [
              0.3333333333333333,
              "#9c179e"
             ],
             [
              0.4444444444444444,
              "#bd3786"
             ],
             [
              0.5555555555555556,
              "#d8576b"
             ],
             [
              0.6666666666666666,
              "#ed7953"
             ],
             [
              0.7777777777777778,
              "#fb9f3a"
             ],
             [
              0.8888888888888888,
              "#fdca26"
             ],
             [
              1,
              "#f0f921"
             ]
            ],
            "type": "histogram2d"
           }
          ],
          "histogram2dcontour": [
           {
            "colorbar": {
             "outlinewidth": 0,
             "ticks": ""
            },
            "colorscale": [
             [
              0,
              "#0d0887"
             ],
             [
              0.1111111111111111,
              "#46039f"
             ],
             [
              0.2222222222222222,
              "#7201a8"
             ],
             [
              0.3333333333333333,
              "#9c179e"
             ],
             [
              0.4444444444444444,
              "#bd3786"
             ],
             [
              0.5555555555555556,
              "#d8576b"
             ],
             [
              0.6666666666666666,
              "#ed7953"
             ],
             [
              0.7777777777777778,
              "#fb9f3a"
             ],
             [
              0.8888888888888888,
              "#fdca26"
             ],
             [
              1,
              "#f0f921"
             ]
            ],
            "type": "histogram2dcontour"
           }
          ],
          "mesh3d": [
           {
            "colorbar": {
             "outlinewidth": 0,
             "ticks": ""
            },
            "type": "mesh3d"
           }
          ],
          "parcoords": [
           {
            "line": {
             "colorbar": {
              "outlinewidth": 0,
              "ticks": ""
             }
            },
            "type": "parcoords"
           }
          ],
          "pie": [
           {
            "automargin": true,
            "type": "pie"
           }
          ],
          "scatter": [
           {
            "marker": {
             "colorbar": {
              "outlinewidth": 0,
              "ticks": ""
             }
            },
            "type": "scatter"
           }
          ],
          "scatter3d": [
           {
            "line": {
             "colorbar": {
              "outlinewidth": 0,
              "ticks": ""
             }
            },
            "marker": {
             "colorbar": {
              "outlinewidth": 0,
              "ticks": ""
             }
            },
            "type": "scatter3d"
           }
          ],
          "scattercarpet": [
           {
            "marker": {
             "colorbar": {
              "outlinewidth": 0,
              "ticks": ""
             }
            },
            "type": "scattercarpet"
           }
          ],
          "scattergeo": [
           {
            "marker": {
             "colorbar": {
              "outlinewidth": 0,
              "ticks": ""
             }
            },
            "type": "scattergeo"
           }
          ],
          "scattergl": [
           {
            "marker": {
             "colorbar": {
              "outlinewidth": 0,
              "ticks": ""
             }
            },
            "type": "scattergl"
           }
          ],
          "scattermapbox": [
           {
            "marker": {
             "colorbar": {
              "outlinewidth": 0,
              "ticks": ""
             }
            },
            "type": "scattermapbox"
           }
          ],
          "scatterpolar": [
           {
            "marker": {
             "colorbar": {
              "outlinewidth": 0,
              "ticks": ""
             }
            },
            "type": "scatterpolar"
           }
          ],
          "scatterpolargl": [
           {
            "marker": {
             "colorbar": {
              "outlinewidth": 0,
              "ticks": ""
             }
            },
            "type": "scatterpolargl"
           }
          ],
          "scatterternary": [
           {
            "marker": {
             "colorbar": {
              "outlinewidth": 0,
              "ticks": ""
             }
            },
            "type": "scatterternary"
           }
          ],
          "surface": [
           {
            "colorbar": {
             "outlinewidth": 0,
             "ticks": ""
            },
            "colorscale": [
             [
              0,
              "#0d0887"
             ],
             [
              0.1111111111111111,
              "#46039f"
             ],
             [
              0.2222222222222222,
              "#7201a8"
             ],
             [
              0.3333333333333333,
              "#9c179e"
             ],
             [
              0.4444444444444444,
              "#bd3786"
             ],
             [
              0.5555555555555556,
              "#d8576b"
             ],
             [
              0.6666666666666666,
              "#ed7953"
             ],
             [
              0.7777777777777778,
              "#fb9f3a"
             ],
             [
              0.8888888888888888,
              "#fdca26"
             ],
             [
              1,
              "#f0f921"
             ]
            ],
            "type": "surface"
           }
          ],
          "table": [
           {
            "cells": {
             "fill": {
              "color": "#EBF0F8"
             },
             "line": {
              "color": "white"
             }
            },
            "header": {
             "fill": {
              "color": "#C8D4E3"
             },
             "line": {
              "color": "white"
             }
            },
            "type": "table"
           }
          ]
         },
         "layout": {
          "annotationdefaults": {
           "arrowcolor": "#2a3f5f",
           "arrowhead": 0,
           "arrowwidth": 1
          },
          "coloraxis": {
           "colorbar": {
            "outlinewidth": 0,
            "ticks": ""
           }
          },
          "colorscale": {
           "diverging": [
            [
             0,
             "#8e0152"
            ],
            [
             0.1,
             "#c51b7d"
            ],
            [
             0.2,
             "#de77ae"
            ],
            [
             0.3,
             "#f1b6da"
            ],
            [
             0.4,
             "#fde0ef"
            ],
            [
             0.5,
             "#f7f7f7"
            ],
            [
             0.6,
             "#e6f5d0"
            ],
            [
             0.7,
             "#b8e186"
            ],
            [
             0.8,
             "#7fbc41"
            ],
            [
             0.9,
             "#4d9221"
            ],
            [
             1,
             "#276419"
            ]
           ],
           "sequential": [
            [
             0,
             "#0d0887"
            ],
            [
             0.1111111111111111,
             "#46039f"
            ],
            [
             0.2222222222222222,
             "#7201a8"
            ],
            [
             0.3333333333333333,
             "#9c179e"
            ],
            [
             0.4444444444444444,
             "#bd3786"
            ],
            [
             0.5555555555555556,
             "#d8576b"
            ],
            [
             0.6666666666666666,
             "#ed7953"
            ],
            [
             0.7777777777777778,
             "#fb9f3a"
            ],
            [
             0.8888888888888888,
             "#fdca26"
            ],
            [
             1,
             "#f0f921"
            ]
           ],
           "sequentialminus": [
            [
             0,
             "#0d0887"
            ],
            [
             0.1111111111111111,
             "#46039f"
            ],
            [
             0.2222222222222222,
             "#7201a8"
            ],
            [
             0.3333333333333333,
             "#9c179e"
            ],
            [
             0.4444444444444444,
             "#bd3786"
            ],
            [
             0.5555555555555556,
             "#d8576b"
            ],
            [
             0.6666666666666666,
             "#ed7953"
            ],
            [
             0.7777777777777778,
             "#fb9f3a"
            ],
            [
             0.8888888888888888,
             "#fdca26"
            ],
            [
             1,
             "#f0f921"
            ]
           ]
          },
          "colorway": [
           "#636efa",
           "#EF553B",
           "#00cc96",
           "#ab63fa",
           "#FFA15A",
           "#19d3f3",
           "#FF6692",
           "#B6E880",
           "#FF97FF",
           "#FECB52"
          ],
          "font": {
           "color": "#2a3f5f"
          },
          "geo": {
           "bgcolor": "white",
           "lakecolor": "white",
           "landcolor": "#E5ECF6",
           "showlakes": true,
           "showland": true,
           "subunitcolor": "white"
          },
          "hoverlabel": {
           "align": "left"
          },
          "hovermode": "closest",
          "mapbox": {
           "style": "light"
          },
          "paper_bgcolor": "white",
          "plot_bgcolor": "#E5ECF6",
          "polar": {
           "angularaxis": {
            "gridcolor": "white",
            "linecolor": "white",
            "ticks": ""
           },
           "bgcolor": "#E5ECF6",
           "radialaxis": {
            "gridcolor": "white",
            "linecolor": "white",
            "ticks": ""
           }
          },
          "scene": {
           "xaxis": {
            "backgroundcolor": "#E5ECF6",
            "gridcolor": "white",
            "gridwidth": 2,
            "linecolor": "white",
            "showbackground": true,
            "ticks": "",
            "zerolinecolor": "white"
           },
           "yaxis": {
            "backgroundcolor": "#E5ECF6",
            "gridcolor": "white",
            "gridwidth": 2,
            "linecolor": "white",
            "showbackground": true,
            "ticks": "",
            "zerolinecolor": "white"
           },
           "zaxis": {
            "backgroundcolor": "#E5ECF6",
            "gridcolor": "white",
            "gridwidth": 2,
            "linecolor": "white",
            "showbackground": true,
            "ticks": "",
            "zerolinecolor": "white"
           }
          },
          "shapedefaults": {
           "line": {
            "color": "#2a3f5f"
           }
          },
          "ternary": {
           "aaxis": {
            "gridcolor": "white",
            "linecolor": "white",
            "ticks": ""
           },
           "baxis": {
            "gridcolor": "white",
            "linecolor": "white",
            "ticks": ""
           },
           "bgcolor": "#E5ECF6",
           "caxis": {
            "gridcolor": "white",
            "linecolor": "white",
            "ticks": ""
           }
          },
          "title": {
           "x": 0.05
          },
          "xaxis": {
           "automargin": true,
           "gridcolor": "white",
           "linecolor": "white",
           "ticks": "",
           "title": {
            "standoff": 15
           },
           "zerolinecolor": "white",
           "zerolinewidth": 2
          },
          "yaxis": {
           "automargin": true,
           "gridcolor": "white",
           "linecolor": "white",
           "ticks": "",
           "title": {
            "standoff": 15
           },
           "zerolinecolor": "white",
           "zerolinewidth": 2
          }
         }
        },
        "xaxis": {
         "anchor": "y",
         "domain": [
          0,
          1
         ],
         "title": {
          "text": "x"
         }
        },
        "yaxis": {
         "anchor": "x",
         "domain": [
          0,
          1
         ],
         "title": {
          "text": "y"
         }
        }
       }
      }
     },
     "metadata": {}
    }
   ],
   "source": [
    "fig = pe.line(x=list(sl.log.keys()), y=[ sl.log[key][\"max_fit\"] for key in sl.log])\n",
    "fig.show()"
   ]
  },
  {
   "source": [
    "# Lim algorithm"
   ],
   "cell_type": "markdown",
   "metadata": {}
  },
  {
   "cell_type": "code",
   "execution_count": 23,
   "metadata": {},
   "outputs": [
    {
     "output_type": "stream",
     "name": "stdout",
     "text": [
      "gen|  pop_len|  avg_time|  std_fit|  min_fit|  max_fit|  \n",
      "1|  20|  0.00015668869018554689|  0.03221305567486922|  0.45353159851301117|  0.5841584158415841|  \n",
      "2|  20|  0.00015860795974731445|  0.026037903112754|  0.44981412639405205|  0.5615615615615616|  \n",
      "3|  20|  0.00023179054260253907|  0.036201157861811065|  0.4423963133640553|  0.5688073394495413|  \n",
      "4|  20|  0.0002382040023803711|  0.044703510667711006|  0.36|  0.594059405940594|  \n",
      "5|  20|  0.0002064943313598633|  0.051578841070094715|  0.34146341463414637|  0.5481727574750831|  \n",
      "6|  20|  0.00015645027160644532|  0.05061897659042471|  0.36|  0.5617977528089888|  \n",
      "7|  20|  0.00019550323486328125|  0.04976114800096112|  0.36923076923076925|  0.5662650602409639|  \n",
      "8|  20|  0.0001748800277709961|  0.057447125153846305|  0.37593984962406013|  0.6226415094339622|  \n",
      "9|  20|  0.00012714862823486327|  0.05325289464039987|  0.36|  0.5538461538461539|  \n",
      "10|  20|  0.000164794921875|  0.06401008924406171|  0.36|  0.6415094339622641|  \n",
      "11|  20|  9.08493995666504e-05|  0.06881501213505002|  0.32|  0.5471698113207547|  \n",
      "12|  20|  0.00017920732498168945|  0.09709808447252535|  0.1111111111111111|  0.5595667870036101|  \n",
      "avg_time =  0.0020806193351745605\n"
     ]
    }
   ],
   "source": [
    "description = {\"Name1\":{\"quantity\":[1], \"values\":[[0,1]]},\n",
    "               \"Name2\":{\"quantity\":range(1,100), \"values\":[[0, 1],[0, 1], [0,1], [0,1]]}\n",
    "               }\n",
    "\n",
    "pop_size=20\n",
    "pop = Population(description=description, evaluate=allone, fitness_target = 0.1, max_deviation=0.1,task_type=TaskType.LIM)\n",
    "pop.extend( inits.initRandom(pop.description,size=pop_size) )\n",
    "\n",
    "#create statslog\n",
    "sl = StatsLog(funcs=[pop_len, avg_time, std_fit, min_fit, max_fit, best_indvdls], viznt_funcs=[best_indvdls])\n",
    "\n",
    "#start algorithm randwhilefalse\n",
    "sel_size = int(np.round(pop_size*0.4))\n",
    "cros_size = int(np.round(pop_size*0.3)) # couples\n",
    "mut_size = int(np.round(pop_size*0.3))\n",
    "best_pop = algs.randwhilefalse(pop, sel_size=sel_size, tour_size=2, cros_size=cros_size, mut_size=mut_size, statslog=sl)\n",
    "print(f\"avg_time = \", np.sum([ sl.log[log_key][\"avg_time\"] for log_key in sl.log ]) )"
   ]
  },
  {
   "cell_type": "code",
   "execution_count": 24,
   "metadata": {},
   "outputs": [
    {
     "output_type": "stream",
     "name": "stdout",
     "text": [
      "best_indvdls =  [{'Name1': [[0]], 'Name2': [[0, 0, 0, 1], [0, 0, 0, 0]]}]\nfitness indvdl 0  =  0.1111111111111111\n"
     ]
    }
   ],
   "source": [
    "print(\"best_indvdls = \", best_pop.best_indvdls())\n",
    "print(\"fitness indvdl 0  = \", best_pop.best_indvdls()[0].fitness)"
   ]
  },
  {
   "cell_type": "code",
   "execution_count": 25,
   "metadata": {},
   "outputs": [
    {
     "output_type": "display_data",
     "data": {
      "application/vnd.plotly.v1+json": {
       "config": {
        "plotlyServerURL": "https://plot.ly"
       },
       "data": [
        {
         "hoverlabel": {
          "namelength": 0
         },
         "hovertemplate": "x=%{x}<br>y=%{y}",
         "legendgroup": "",
         "line": {
          "color": "#636efa",
          "dash": "solid"
         },
         "mode": "lines",
         "name": "",
         "showlegend": false,
         "type": "scatter",
         "x": [
          0,
          1,
          2,
          3,
          4,
          5,
          6,
          7,
          8,
          9,
          10,
          11,
          12,
          13,
          14,
          15,
          16,
          17,
          18,
          19
         ],
         "xaxis": "x",
         "y": [
          0.1111111111111111,
          0.42424242424242425,
          0.4281524926686217,
          0.5595667870036101,
          0.49230769230769234,
          0.42105263157894735,
          0.5384615384615384,
          0.42857142857142855,
          0.5555555555555556,
          0.3333333333333333,
          0.5283018867924528,
          0.5463917525773195,
          0.4044943820224719,
          0.42857142857142855,
          0.43523316062176165,
          0.496,
          0.4827586206896552,
          0.5064935064935064,
          0.4343891402714932,
          0.4394904458598726
         ],
         "yaxis": "y"
        }
       ],
       "layout": {
        "legend": {
         "tracegroupgap": 0
        },
        "margin": {
         "t": 60
        },
        "template": {
         "data": {
          "bar": [
           {
            "error_x": {
             "color": "#2a3f5f"
            },
            "error_y": {
             "color": "#2a3f5f"
            },
            "marker": {
             "line": {
              "color": "#E5ECF6",
              "width": 0.5
             }
            },
            "type": "bar"
           }
          ],
          "barpolar": [
           {
            "marker": {
             "line": {
              "color": "#E5ECF6",
              "width": 0.5
             }
            },
            "type": "barpolar"
           }
          ],
          "carpet": [
           {
            "aaxis": {
             "endlinecolor": "#2a3f5f",
             "gridcolor": "white",
             "linecolor": "white",
             "minorgridcolor": "white",
             "startlinecolor": "#2a3f5f"
            },
            "baxis": {
             "endlinecolor": "#2a3f5f",
             "gridcolor": "white",
             "linecolor": "white",
             "minorgridcolor": "white",
             "startlinecolor": "#2a3f5f"
            },
            "type": "carpet"
           }
          ],
          "choropleth": [
           {
            "colorbar": {
             "outlinewidth": 0,
             "ticks": ""
            },
            "type": "choropleth"
           }
          ],
          "contour": [
           {
            "colorbar": {
             "outlinewidth": 0,
             "ticks": ""
            },
            "colorscale": [
             [
              0,
              "#0d0887"
             ],
             [
              0.1111111111111111,
              "#46039f"
             ],
             [
              0.2222222222222222,
              "#7201a8"
             ],
             [
              0.3333333333333333,
              "#9c179e"
             ],
             [
              0.4444444444444444,
              "#bd3786"
             ],
             [
              0.5555555555555556,
              "#d8576b"
             ],
             [
              0.6666666666666666,
              "#ed7953"
             ],
             [
              0.7777777777777778,
              "#fb9f3a"
             ],
             [
              0.8888888888888888,
              "#fdca26"
             ],
             [
              1,
              "#f0f921"
             ]
            ],
            "type": "contour"
           }
          ],
          "contourcarpet": [
           {
            "colorbar": {
             "outlinewidth": 0,
             "ticks": ""
            },
            "type": "contourcarpet"
           }
          ],
          "heatmap": [
           {
            "colorbar": {
             "outlinewidth": 0,
             "ticks": ""
            },
            "colorscale": [
             [
              0,
              "#0d0887"
             ],
             [
              0.1111111111111111,
              "#46039f"
             ],
             [
              0.2222222222222222,
              "#7201a8"
             ],
             [
              0.3333333333333333,
              "#9c179e"
             ],
             [
              0.4444444444444444,
              "#bd3786"
             ],
             [
              0.5555555555555556,
              "#d8576b"
             ],
             [
              0.6666666666666666,
              "#ed7953"
             ],
             [
              0.7777777777777778,
              "#fb9f3a"
             ],
             [
              0.8888888888888888,
              "#fdca26"
             ],
             [
              1,
              "#f0f921"
             ]
            ],
            "type": "heatmap"
           }
          ],
          "heatmapgl": [
           {
            "colorbar": {
             "outlinewidth": 0,
             "ticks": ""
            },
            "colorscale": [
             [
              0,
              "#0d0887"
             ],
             [
              0.1111111111111111,
              "#46039f"
             ],
             [
              0.2222222222222222,
              "#7201a8"
             ],
             [
              0.3333333333333333,
              "#9c179e"
             ],
             [
              0.4444444444444444,
              "#bd3786"
             ],
             [
              0.5555555555555556,
              "#d8576b"
             ],
             [
              0.6666666666666666,
              "#ed7953"
             ],
             [
              0.7777777777777778,
              "#fb9f3a"
             ],
             [
              0.8888888888888888,
              "#fdca26"
             ],
             [
              1,
              "#f0f921"
             ]
            ],
            "type": "heatmapgl"
           }
          ],
          "histogram": [
           {
            "marker": {
             "colorbar": {
              "outlinewidth": 0,
              "ticks": ""
             }
            },
            "type": "histogram"
           }
          ],
          "histogram2d": [
           {
            "colorbar": {
             "outlinewidth": 0,
             "ticks": ""
            },
            "colorscale": [
             [
              0,
              "#0d0887"
             ],
             [
              0.1111111111111111,
              "#46039f"
             ],
             [
              0.2222222222222222,
              "#7201a8"
             ],
             [
              0.3333333333333333,
              "#9c179e"
             ],
             [
              0.4444444444444444,
              "#bd3786"
             ],
             [
              0.5555555555555556,
              "#d8576b"
             ],
             [
              0.6666666666666666,
              "#ed7953"
             ],
             [
              0.7777777777777778,
              "#fb9f3a"
             ],
             [
              0.8888888888888888,
              "#fdca26"
             ],
             [
              1,
              "#f0f921"
             ]
            ],
            "type": "histogram2d"
           }
          ],
          "histogram2dcontour": [
           {
            "colorbar": {
             "outlinewidth": 0,
             "ticks": ""
            },
            "colorscale": [
             [
              0,
              "#0d0887"
             ],
             [
              0.1111111111111111,
              "#46039f"
             ],
             [
              0.2222222222222222,
              "#7201a8"
             ],
             [
              0.3333333333333333,
              "#9c179e"
             ],
             [
              0.4444444444444444,
              "#bd3786"
             ],
             [
              0.5555555555555556,
              "#d8576b"
             ],
             [
              0.6666666666666666,
              "#ed7953"
             ],
             [
              0.7777777777777778,
              "#fb9f3a"
             ],
             [
              0.8888888888888888,
              "#fdca26"
             ],
             [
              1,
              "#f0f921"
             ]
            ],
            "type": "histogram2dcontour"
           }
          ],
          "mesh3d": [
           {
            "colorbar": {
             "outlinewidth": 0,
             "ticks": ""
            },
            "type": "mesh3d"
           }
          ],
          "parcoords": [
           {
            "line": {
             "colorbar": {
              "outlinewidth": 0,
              "ticks": ""
             }
            },
            "type": "parcoords"
           }
          ],
          "pie": [
           {
            "automargin": true,
            "type": "pie"
           }
          ],
          "scatter": [
           {
            "marker": {
             "colorbar": {
              "outlinewidth": 0,
              "ticks": ""
             }
            },
            "type": "scatter"
           }
          ],
          "scatter3d": [
           {
            "line": {
             "colorbar": {
              "outlinewidth": 0,
              "ticks": ""
             }
            },
            "marker": {
             "colorbar": {
              "outlinewidth": 0,
              "ticks": ""
             }
            },
            "type": "scatter3d"
           }
          ],
          "scattercarpet": [
           {
            "marker": {
             "colorbar": {
              "outlinewidth": 0,
              "ticks": ""
             }
            },
            "type": "scattercarpet"
           }
          ],
          "scattergeo": [
           {
            "marker": {
             "colorbar": {
              "outlinewidth": 0,
              "ticks": ""
             }
            },
            "type": "scattergeo"
           }
          ],
          "scattergl": [
           {
            "marker": {
             "colorbar": {
              "outlinewidth": 0,
              "ticks": ""
             }
            },
            "type": "scattergl"
           }
          ],
          "scattermapbox": [
           {
            "marker": {
             "colorbar": {
              "outlinewidth": 0,
              "ticks": ""
             }
            },
            "type": "scattermapbox"
           }
          ],
          "scatterpolar": [
           {
            "marker": {
             "colorbar": {
              "outlinewidth": 0,
              "ticks": ""
             }
            },
            "type": "scatterpolar"
           }
          ],
          "scatterpolargl": [
           {
            "marker": {
             "colorbar": {
              "outlinewidth": 0,
              "ticks": ""
             }
            },
            "type": "scatterpolargl"
           }
          ],
          "scatterternary": [
           {
            "marker": {
             "colorbar": {
              "outlinewidth": 0,
              "ticks": ""
             }
            },
            "type": "scatterternary"
           }
          ],
          "surface": [
           {
            "colorbar": {
             "outlinewidth": 0,
             "ticks": ""
            },
            "colorscale": [
             [
              0,
              "#0d0887"
             ],
             [
              0.1111111111111111,
              "#46039f"
             ],
             [
              0.2222222222222222,
              "#7201a8"
             ],
             [
              0.3333333333333333,
              "#9c179e"
             ],
             [
              0.4444444444444444,
              "#bd3786"
             ],
             [
              0.5555555555555556,
              "#d8576b"
             ],
             [
              0.6666666666666666,
              "#ed7953"
             ],
             [
              0.7777777777777778,
              "#fb9f3a"
             ],
             [
              0.8888888888888888,
              "#fdca26"
             ],
             [
              1,
              "#f0f921"
             ]
            ],
            "type": "surface"
           }
          ],
          "table": [
           {
            "cells": {
             "fill": {
              "color": "#EBF0F8"
             },
             "line": {
              "color": "white"
             }
            },
            "header": {
             "fill": {
              "color": "#C8D4E3"
             },
             "line": {
              "color": "white"
             }
            },
            "type": "table"
           }
          ]
         },
         "layout": {
          "annotationdefaults": {
           "arrowcolor": "#2a3f5f",
           "arrowhead": 0,
           "arrowwidth": 1
          },
          "coloraxis": {
           "colorbar": {
            "outlinewidth": 0,
            "ticks": ""
           }
          },
          "colorscale": {
           "diverging": [
            [
             0,
             "#8e0152"
            ],
            [
             0.1,
             "#c51b7d"
            ],
            [
             0.2,
             "#de77ae"
            ],
            [
             0.3,
             "#f1b6da"
            ],
            [
             0.4,
             "#fde0ef"
            ],
            [
             0.5,
             "#f7f7f7"
            ],
            [
             0.6,
             "#e6f5d0"
            ],
            [
             0.7,
             "#b8e186"
            ],
            [
             0.8,
             "#7fbc41"
            ],
            [
             0.9,
             "#4d9221"
            ],
            [
             1,
             "#276419"
            ]
           ],
           "sequential": [
            [
             0,
             "#0d0887"
            ],
            [
             0.1111111111111111,
             "#46039f"
            ],
            [
             0.2222222222222222,
             "#7201a8"
            ],
            [
             0.3333333333333333,
             "#9c179e"
            ],
            [
             0.4444444444444444,
             "#bd3786"
            ],
            [
             0.5555555555555556,
             "#d8576b"
            ],
            [
             0.6666666666666666,
             "#ed7953"
            ],
            [
             0.7777777777777778,
             "#fb9f3a"
            ],
            [
             0.8888888888888888,
             "#fdca26"
            ],
            [
             1,
             "#f0f921"
            ]
           ],
           "sequentialminus": [
            [
             0,
             "#0d0887"
            ],
            [
             0.1111111111111111,
             "#46039f"
            ],
            [
             0.2222222222222222,
             "#7201a8"
            ],
            [
             0.3333333333333333,
             "#9c179e"
            ],
            [
             0.4444444444444444,
             "#bd3786"
            ],
            [
             0.5555555555555556,
             "#d8576b"
            ],
            [
             0.6666666666666666,
             "#ed7953"
            ],
            [
             0.7777777777777778,
             "#fb9f3a"
            ],
            [
             0.8888888888888888,
             "#fdca26"
            ],
            [
             1,
             "#f0f921"
            ]
           ]
          },
          "colorway": [
           "#636efa",
           "#EF553B",
           "#00cc96",
           "#ab63fa",
           "#FFA15A",
           "#19d3f3",
           "#FF6692",
           "#B6E880",
           "#FF97FF",
           "#FECB52"
          ],
          "font": {
           "color": "#2a3f5f"
          },
          "geo": {
           "bgcolor": "white",
           "lakecolor": "white",
           "landcolor": "#E5ECF6",
           "showlakes": true,
           "showland": true,
           "subunitcolor": "white"
          },
          "hoverlabel": {
           "align": "left"
          },
          "hovermode": "closest",
          "mapbox": {
           "style": "light"
          },
          "paper_bgcolor": "white",
          "plot_bgcolor": "#E5ECF6",
          "polar": {
           "angularaxis": {
            "gridcolor": "white",
            "linecolor": "white",
            "ticks": ""
           },
           "bgcolor": "#E5ECF6",
           "radialaxis": {
            "gridcolor": "white",
            "linecolor": "white",
            "ticks": ""
           }
          },
          "scene": {
           "xaxis": {
            "backgroundcolor": "#E5ECF6",
            "gridcolor": "white",
            "gridwidth": 2,
            "linecolor": "white",
            "showbackground": true,
            "ticks": "",
            "zerolinecolor": "white"
           },
           "yaxis": {
            "backgroundcolor": "#E5ECF6",
            "gridcolor": "white",
            "gridwidth": 2,
            "linecolor": "white",
            "showbackground": true,
            "ticks": "",
            "zerolinecolor": "white"
           },
           "zaxis": {
            "backgroundcolor": "#E5ECF6",
            "gridcolor": "white",
            "gridwidth": 2,
            "linecolor": "white",
            "showbackground": true,
            "ticks": "",
            "zerolinecolor": "white"
           }
          },
          "shapedefaults": {
           "line": {
            "color": "#2a3f5f"
           }
          },
          "ternary": {
           "aaxis": {
            "gridcolor": "white",
            "linecolor": "white",
            "ticks": ""
           },
           "baxis": {
            "gridcolor": "white",
            "linecolor": "white",
            "ticks": ""
           },
           "bgcolor": "#E5ECF6",
           "caxis": {
            "gridcolor": "white",
            "linecolor": "white",
            "ticks": ""
           }
          },
          "title": {
           "x": 0.05
          },
          "xaxis": {
           "automargin": true,
           "gridcolor": "white",
           "linecolor": "white",
           "ticks": "",
           "title": {
            "standoff": 15
           },
           "zerolinecolor": "white",
           "zerolinewidth": 2
          },
          "yaxis": {
           "automargin": true,
           "gridcolor": "white",
           "linecolor": "white",
           "ticks": "",
           "title": {
            "standoff": 15
           },
           "zerolinecolor": "white",
           "zerolinewidth": 2
          }
         }
        },
        "xaxis": {
         "anchor": "y",
         "domain": [
          0,
          1
         ],
         "title": {
          "text": "x"
         }
        },
        "yaxis": {
         "anchor": "x",
         "domain": [
          0,
          1
         ],
         "title": {
          "text": "y"
         }
        }
       }
      }
     },
     "metadata": {}
    }
   ],
   "source": [
    "fig = pe.line(x=range(len(best_pop)), y=[ indvdl.fitness for indvdl in best_pop])\n",
    "fig.show()"
   ]
  },
  {
   "cell_type": "code",
   "execution_count": 26,
   "metadata": {},
   "outputs": [
    {
     "output_type": "stream",
     "name": "stdout",
     "text": [
      "gen|  pop_len|  avg_time|  std_fit|  min_fit|  max_fit|  \n",
      "1|  20|  0.00014410018920898437|  0.11361008830295272|  0.4472049689440994|  1.0|  \n",
      "2|  20|  0.0002010345458984375|  0.03137616626114971|  0.445859872611465|  0.5739130434782609|  \n",
      "3|  20|  0.0001515507698059082|  0.05519438310775471|  0.45454545454545453|  0.7058823529411765|  \n",
      "4|  20|  0.0001572251319885254|  0.042772959791194644|  0.4563758389261745|  0.6470588235294118|  \n",
      "5|  20|  0.00023595094680786132|  0.039118361132120756|  0.4508670520231214|  0.6238532110091743|  \n",
      "6|  20|  0.00015659332275390624|  0.037407570406850964|  0.4117647058823529|  0.5779816513761468|  \n",
      "7|  20|  0.000126039981842041|  0.07932115186043324|  0.4444444444444444|  0.8235294117647058|  \n",
      "8|  20|  0.00013660192489624025|  0.058113454113484876|  0.29411764705882354|  0.6153846153846154|  \n",
      "9|  20|  0.00015627145767211915|  0.03959134026405929|  0.42696629213483145|  0.6|  \n",
      "10|  20|  0.00011292695999145507|  0.040324055717543494|  0.35294117647058826|  0.5390334572490706|  \n",
      "11|  20|  9.742975234985351e-05|  0.04371139038601907|  0.35294117647058826|  0.550185873605948|  \n",
      "12|  20|  0.00016145706176757814|  0.057353122946896075|  0.41509433962264153|  0.6557377049180327|  \n",
      "13|  20|  0.00013602972030639647|  0.06238531773994893|  0.2702702702702703|  0.5701357466063348|  \n",
      "14|  20|  0.00013924837112426757|  0.05561778491653514|  0.425531914893617|  0.6666666666666666|  \n",
      "15|  20|  0.0001202702522277832|  0.0585285993443283|  0.41605839416058393|  0.6629213483146067|  \n",
      "16|  20|  0.00010598897933959961|  0.05041199174893967|  0.3333333333333333|  0.5714285714285714|  \n",
      "17|  20|  0.00013207197189331056|  0.04878102005700564|  0.3333333333333333|  0.5510204081632653|  \n",
      "18|  20|  0.00010758638381958008|  0.05642008415844456|  0.3333333333333333|  0.5882352941176471|  \n",
      "19|  20|  0.00014865398406982422|  0.04775103517129004|  0.3333333333333333|  0.5714285714285714|  \n",
      "20|  20|  0.00012623071670532228|  0.043780463401450316|  0.3950617283950617|  0.5510204081632653|  \n",
      "21|  20|  0.000122225284576416|  0.03342436944863821|  0.40860215053763443|  0.5393258426966292|  \n",
      "22|  20|  0.00012329816818237304|  0.12057624780738133|  0.40860215053763443|  1.0|  \n",
      "23|  20|  0.00011115074157714843|  0.02958925852372967|  0.40860215053763443|  0.5360824742268041|  \n",
      "24|  20|  0.00015108585357666017|  0.046885309289625435|  0.4074074074074074|  0.6153846153846154|  \n",
      "25|  20|  0.00012977123260498046|  0.05006592738630656|  0.3673469387755102|  0.5714285714285714|  \n",
      "26|  20|  0.00017521381378173828|  0.04095517345785708|  0.40540540540540543|  0.5714285714285714|  \n",
      "27|  20|  0.00013405084609985352|  0.03302972562282355|  0.41237113402061853|  0.5409836065573771|  \n",
      "28|  20|  0.0001373887062072754|  0.03310878745332744|  0.41237113402061853|  0.5503875968992248|  \n",
      "29|  20|  0.00014278888702392578|  0.047269194788807534|  0.44|  0.6521739130434783|  \n",
      "30|  20|  0.00015871524810791017|  0.03442298192045318|  0.39849624060150374|  0.559322033898305|  \n",
      "31|  20|  0.0001724720001220703|  0.029074350993712993|  0.43010752688172044|  0.5272727272727272|  \n",
      "32|  20|  0.00017832517623901368|  0.03126746364628073|  0.42857142857142855|  0.5714285714285714|  \n",
      "33|  20|  0.00017824172973632813|  0.032824158905787305|  0.41509433962264153|  0.5384615384615384|  \n",
      "34|  20|  0.0002311587333679199|  0.03234867006939464|  0.41509433962264153|  0.5335968379446641|  \n",
      "35|  20|  0.00025622844696044923|  0.04347308475676145|  0.4146341463414634|  0.5841584158415841|  \n",
      "36|  20|  0.0001654505729675293|  0.039180120860781396|  0.37735849056603776|  0.5351351351351351|  \n",
      "37|  20|  0.00019142627716064453|  0.040237944708775654|  0.38345864661654133|  0.5414364640883977|  \n",
      "38|  20|  0.00015630722045898438|  0.040859018887545326|  0.38345864661654133|  0.5170731707317073|  \n",
      "39|  20|  0.00014984607696533203|  0.04762161563998937|  0.38345864661654133|  0.56|  \n",
      "40|  20|  0.00019377470016479492|  0.046086222292193606|  0.38345864661654133|  0.5431309904153354|  \n",
      "41|  20|  0.00017167329788208007|  0.03862781197942771|  0.38345864661654133|  0.5293005671077504|  \n",
      "42|  20|  0.00016442537307739257|  0.048257830244704994|  0.38345864661654133|  0.5692307692307692|  \n",
      "43|  20|  0.00016629695892333984|  0.04868757571339374|  0.38345864661654133|  0.6065573770491803|  \n",
      "44|  20|  0.00021495819091796876|  0.0437795969396294|  0.38345864661654133|  0.543859649122807|  \n",
      "45|  20|  0.0002159595489501953|  0.03999360804787692|  0.38697318007662834|  0.543859649122807|  \n",
      "46|  20|  0.00024657249450683595|  0.03850311490989288|  0.39849624060150374|  0.5384615384615384|  \n",
      "47|  20|  0.00024460554122924806|  0.0324914900963785|  0.4222222222222222|  0.5448504983388704|  \n",
      "48|  20|  0.0002060532569885254|  0.03332157819463843|  0.4222222222222222|  0.5451713395638629|  \n",
      "49|  20|  0.00021241903305053712|  0.040317885009734544|  0.4222222222222222|  0.5945945945945946|  \n",
      "50|  20|  0.00021424293518066407|  0.03245892622799784|  0.4214876033057851|  0.5472636815920398|  \n",
      "51|  20|  0.00020380020141601561|  0.030342235771318254|  0.4214876033057851|  0.5252525252525253|  \n",
      "52|  20|  0.00016622543334960939|  0.047794309701061216|  0.35294117647058826|  0.5945945945945946|  \n",
      "53|  20|  0.0001511096954345703|  0.035727717970038694|  0.4117647058823529|  0.5675675675675675|  \n",
      "54|  20|  0.00015436410903930665|  0.07674726516999901|  0.2222222222222222|  0.6923076923076923|  \n",
      "55|  20|  0.00015714168548583985|  0.038077244236342525|  0.37777777777777777|  0.5414364640883977|  \n",
      "56|  20|  0.00022156238555908202|  0.049073729759219004|  0.37777777777777777|  0.6470588235294118|  \n",
      "57|  20|  0.00015767812728881836|  0.04090874525451997|  0.37777777777777777|  0.5469613259668509|  \n",
      "58|  20|  0.00012929439544677733|  0.05564736516574057|  0.37777777777777777|  0.6231884057971014|  \n",
      "59|  20|  0.00012187957763671875|  0.04402359903133268|  0.37777777777777777|  0.5797101449275363|  \n",
      "60|  20|  0.0001345992088317871|  0.042614384510546215|  0.4046242774566474|  0.5652173913043478|  \n",
      "61|  20|  0.00014553070068359374|  0.03708080017301408|  0.4046242774566474|  0.5238095238095238|  \n",
      "62|  20|  0.00014094114303588867|  0.045335042744801574|  0.38095238095238093|  0.5390070921985816|  \n",
      "63|  20|  0.00013799667358398436|  0.06228955567405514|  0.3333333333333333|  0.536|  \n",
      "64|  20|  0.00011979341506958008|  0.054541136294236084|  0.3333333333333333|  0.5333333333333333|  \n",
      "65|  20|  0.0001398324966430664|  0.06020553900225674|  0.3333333333333333|  0.6206896551724138|  \n",
      "66|  20|  0.00014675855636596679|  0.060752693088879255|  0.3333333333333333|  0.589041095890411|  \n",
      "67|  20|  0.00011706352233886719|  0.053552588104906255|  0.3333333333333333|  0.5414847161572053|  \n",
      "68|  20|  0.00010964870452880859|  0.06719441721016439|  0.29411764705882354|  0.5862068965517241|  \n",
      "69|  20|  0.00010881423950195312|  0.05738367054244409|  0.29411764705882354|  0.5575221238938053|  \n",
      "70|  20|  0.00013371706008911133|  0.0859723727596481|  0.29411764705882354|  0.7027027027027027|  \n",
      "71|  20|  0.0001043558120727539|  0.09745703886389574|  0.23076923076923078|  0.6363636363636364|  \n",
      "72|  20|  0.0001037001609802246|  0.10005934041784574|  0.3103448275862069|  0.7777777777777778|  \n",
      "73|  20|  0.0001288890838623047|  0.07310692610332624|  0.3103448275862069|  0.5797101449275363|  \n",
      "74|  20|  0.00014153718948364257|  0.06797309452787655|  0.3103448275862069|  0.5586854460093896|  \n",
      "75|  20|  0.0001494288444519043|  0.062012021615850066|  0.35555555555555557|  0.5675675675675675|  \n",
      "76|  20|  0.00011324882507324219|  0.06627330108122034|  0.35555555555555557|  0.5968992248062015|  \n",
      "77|  20|  0.00010954141616821289|  0.05583767947245106|  0.35555555555555557|  0.5736434108527132|  \n",
      "78|  20|  0.00010322332382202148|  0.04365072103676248|  0.35555555555555557|  0.5233160621761658|  \n",
      "79|  20|  0.00012035369873046875|  0.04528330886963339|  0.35555555555555557|  0.5692307692307692|  \n",
      "80|  20|  0.00012768507003784179|  0.03142145657126695|  0.35555555555555557|  0.49272349272349275|  \n",
      "81|  20|  0.00010936260223388672|  0.0933395046628203|  0.28|  0.8|  \n",
      "82|  20|  0.00011973381042480468|  0.08193517684507165|  0.23076923076923078|  0.6|  \n",
      "83|  20|  0.0001104116439819336|  0.057540174939348834|  0.28|  0.5517241379310345|  \n",
      "84|  20|  0.0001379847526550293|  0.03023318742162483|  0.37168141592920356|  0.4909090909090909|  \n",
      "85|  20|  0.00013206005096435546|  0.03701104903143128|  0.37168141592920356|  0.5440414507772021|  \n",
      "86|  20|  0.00012776851654052734|  0.053924404012671345|  0.37168141592920356|  0.5857988165680473|  \n",
      "87|  20|  0.00012025833129882812|  0.04564784035825915|  0.38461538461538464|  0.5539906103286385|  \n",
      "88|  20|  0.00016472339630126953|  0.06008107406618575|  0.38461538461538464|  0.6470588235294118|  \n",
      "89|  20|  0.00021191835403442383|  0.032706724501111194|  0.4117647058823529|  0.5345622119815668|  \n",
      "90|  20|  0.00017808675765991212|  0.041324124784654186|  0.4206896551724138|  0.5753424657534246|  \n",
      "91|  20|  0.00013817548751831054|  0.035752566838715194|  0.4206896551724138|  0.5342960288808665|  \n",
      "92|  20|  0.0001246333122253418|  0.039949881344625106|  0.4206896551724138|  0.5757575757575758|  \n",
      "93|  20|  0.000150907039642334|  0.035790811101808324|  0.4146341463414634|  0.5454545454545454|  \n",
      "94|  20|  0.00011031627655029297|  0.061351706415467604|  0.35135135135135137|  0.6666666666666666|  \n",
      "95|  20|  0.00010172128677368164|  0.12668983302178022|  0.0|  0.5255474452554745|  \n",
      "avg_time =  0.014307165145874021\n"
     ]
    }
   ],
   "source": [
    "description = {\"Name1\":{\"quantity\":[1], \"values\":[[0,1]]},\n",
    "               \"Name2\":{\"quantity\":range(1,100), \"values\":[[0, 1],[0, 1], [0,1], [0,1]]}\n",
    "               }\n",
    "\n",
    "pop_size=20\n",
    "pop = Population(description=description, evaluate=allone, fitness_target = 0.1, max_deviation=0.1,task_type=TaskType.LIM)\n",
    "pop.extend( inits.initRandom(pop.description,size=pop_size) )\n",
    "\n",
    "#create statslog\n",
    "sl = StatsLog(funcs=[pop_len, avg_time, std_fit, min_fit, max_fit, best_indvdls], viznt_funcs=[best_indvdls])\n",
    "\n",
    "#start algorithm randwhilefalse\n",
    "sel_size = int(np.round(pop_size*0.4))\n",
    "cros_size = int(np.round(pop_size*0.3)) # couples\n",
    "mut_size = int(np.round(pop_size*0.3))\n",
    "best_pop = algs.randwhilefalse(pop, sel_size=sel_size, tour_size=2, cros_size=cros_size, mut_size=mut_size, statslog=sl)\n",
    "print(f\"avg_time = \", np.sum([ sl.log[log_key][\"avg_time\"] for log_key in sl.log ]) )"
   ]
  },
  {
   "cell_type": "code",
   "execution_count": 27,
   "metadata": {},
   "outputs": [
    {
     "output_type": "stream",
     "name": "stdout",
     "text": [
      "best_indvdls =  [{'Name1': [[0]], 'Name2': [[0, 0, 0, 0]]}]\nfitness indvdl 0  =  0.0\n"
     ]
    }
   ],
   "source": [
    "print(\"best_indvdls = \", best_pop.best_indvdls())\n",
    "print(\"fitness indvdl 0  = \", best_pop.best_indvdls()[0].fitness)"
   ]
  },
  {
   "cell_type": "code",
   "execution_count": 28,
   "metadata": {},
   "outputs": [
    {
     "output_type": "display_data",
     "data": {
      "application/vnd.plotly.v1+json": {
       "config": {
        "plotlyServerURL": "https://plot.ly"
       },
       "data": [
        {
         "hoverlabel": {
          "namelength": 0
         },
         "hovertemplate": "x=%{x}<br>y=%{y}",
         "legendgroup": "",
         "line": {
          "color": "#636efa",
          "dash": "solid"
         },
         "mode": "lines",
         "name": "",
         "showlegend": false,
         "type": "scatter",
         "x": [
          0,
          1,
          2,
          3,
          4,
          5,
          6,
          7,
          8,
          9,
          10,
          11,
          12,
          13,
          14,
          15,
          16,
          17,
          18,
          19
         ],
         "xaxis": "x",
         "y": [
          0.5172413793103449,
          0.5014836795252225,
          0.502262443438914,
          0.5167173252279635,
          0.43902439024390244,
          0.46405228758169936,
          0.48905109489051096,
          0.35135135135135137,
          0.3103448275862069,
          0.5135135135135135,
          0,
          0.459915611814346,
          0.48717948717948717,
          0.23076923076923078,
          0.5088757396449705,
          0.5255474452554745,
          0.5240274599542334,
          0.5022222222222222,
          0.4878048780487805,
          0.496551724137931
         ],
         "yaxis": "y"
        }
       ],
       "layout": {
        "legend": {
         "tracegroupgap": 0
        },
        "margin": {
         "t": 60
        },
        "template": {
         "data": {
          "bar": [
           {
            "error_x": {
             "color": "#2a3f5f"
            },
            "error_y": {
             "color": "#2a3f5f"
            },
            "marker": {
             "line": {
              "color": "#E5ECF6",
              "width": 0.5
             }
            },
            "type": "bar"
           }
          ],
          "barpolar": [
           {
            "marker": {
             "line": {
              "color": "#E5ECF6",
              "width": 0.5
             }
            },
            "type": "barpolar"
           }
          ],
          "carpet": [
           {
            "aaxis": {
             "endlinecolor": "#2a3f5f",
             "gridcolor": "white",
             "linecolor": "white",
             "minorgridcolor": "white",
             "startlinecolor": "#2a3f5f"
            },
            "baxis": {
             "endlinecolor": "#2a3f5f",
             "gridcolor": "white",
             "linecolor": "white",
             "minorgridcolor": "white",
             "startlinecolor": "#2a3f5f"
            },
            "type": "carpet"
           }
          ],
          "choropleth": [
           {
            "colorbar": {
             "outlinewidth": 0,
             "ticks": ""
            },
            "type": "choropleth"
           }
          ],
          "contour": [
           {
            "colorbar": {
             "outlinewidth": 0,
             "ticks": ""
            },
            "colorscale": [
             [
              0,
              "#0d0887"
             ],
             [
              0.1111111111111111,
              "#46039f"
             ],
             [
              0.2222222222222222,
              "#7201a8"
             ],
             [
              0.3333333333333333,
              "#9c179e"
             ],
             [
              0.4444444444444444,
              "#bd3786"
             ],
             [
              0.5555555555555556,
              "#d8576b"
             ],
             [
              0.6666666666666666,
              "#ed7953"
             ],
             [
              0.7777777777777778,
              "#fb9f3a"
             ],
             [
              0.8888888888888888,
              "#fdca26"
             ],
             [
              1,
              "#f0f921"
             ]
            ],
            "type": "contour"
           }
          ],
          "contourcarpet": [
           {
            "colorbar": {
             "outlinewidth": 0,
             "ticks": ""
            },
            "type": "contourcarpet"
           }
          ],
          "heatmap": [
           {
            "colorbar": {
             "outlinewidth": 0,
             "ticks": ""
            },
            "colorscale": [
             [
              0,
              "#0d0887"
             ],
             [
              0.1111111111111111,
              "#46039f"
             ],
             [
              0.2222222222222222,
              "#7201a8"
             ],
             [
              0.3333333333333333,
              "#9c179e"
             ],
             [
              0.4444444444444444,
              "#bd3786"
             ],
             [
              0.5555555555555556,
              "#d8576b"
             ],
             [
              0.6666666666666666,
              "#ed7953"
             ],
             [
              0.7777777777777778,
              "#fb9f3a"
             ],
             [
              0.8888888888888888,
              "#fdca26"
             ],
             [
              1,
              "#f0f921"
             ]
            ],
            "type": "heatmap"
           }
          ],
          "heatmapgl": [
           {
            "colorbar": {
             "outlinewidth": 0,
             "ticks": ""
            },
            "colorscale": [
             [
              0,
              "#0d0887"
             ],
             [
              0.1111111111111111,
              "#46039f"
             ],
             [
              0.2222222222222222,
              "#7201a8"
             ],
             [
              0.3333333333333333,
              "#9c179e"
             ],
             [
              0.4444444444444444,
              "#bd3786"
             ],
             [
              0.5555555555555556,
              "#d8576b"
             ],
             [
              0.6666666666666666,
              "#ed7953"
             ],
             [
              0.7777777777777778,
              "#fb9f3a"
             ],
             [
              0.8888888888888888,
              "#fdca26"
             ],
             [
              1,
              "#f0f921"
             ]
            ],
            "type": "heatmapgl"
           }
          ],
          "histogram": [
           {
            "marker": {
             "colorbar": {
              "outlinewidth": 0,
              "ticks": ""
             }
            },
            "type": "histogram"
           }
          ],
          "histogram2d": [
           {
            "colorbar": {
             "outlinewidth": 0,
             "ticks": ""
            },
            "colorscale": [
             [
              0,
              "#0d0887"
             ],
             [
              0.1111111111111111,
              "#46039f"
             ],
             [
              0.2222222222222222,
              "#7201a8"
             ],
             [
              0.3333333333333333,
              "#9c179e"
             ],
             [
              0.4444444444444444,
              "#bd3786"
             ],
             [
              0.5555555555555556,
              "#d8576b"
             ],
             [
              0.6666666666666666,
              "#ed7953"
             ],
             [
              0.7777777777777778,
              "#fb9f3a"
             ],
             [
              0.8888888888888888,
              "#fdca26"
             ],
             [
              1,
              "#f0f921"
             ]
            ],
            "type": "histogram2d"
           }
          ],
          "histogram2dcontour": [
           {
            "colorbar": {
             "outlinewidth": 0,
             "ticks": ""
            },
            "colorscale": [
             [
              0,
              "#0d0887"
             ],
             [
              0.1111111111111111,
              "#46039f"
             ],
             [
              0.2222222222222222,
              "#7201a8"
             ],
             [
              0.3333333333333333,
              "#9c179e"
             ],
             [
              0.4444444444444444,
              "#bd3786"
             ],
             [
              0.5555555555555556,
              "#d8576b"
             ],
             [
              0.6666666666666666,
              "#ed7953"
             ],
             [
              0.7777777777777778,
              "#fb9f3a"
             ],
             [
              0.8888888888888888,
              "#fdca26"
             ],
             [
              1,
              "#f0f921"
             ]
            ],
            "type": "histogram2dcontour"
           }
          ],
          "mesh3d": [
           {
            "colorbar": {
             "outlinewidth": 0,
             "ticks": ""
            },
            "type": "mesh3d"
           }
          ],
          "parcoords": [
           {
            "line": {
             "colorbar": {
              "outlinewidth": 0,
              "ticks": ""
             }
            },
            "type": "parcoords"
           }
          ],
          "pie": [
           {
            "automargin": true,
            "type": "pie"
           }
          ],
          "scatter": [
           {
            "marker": {
             "colorbar": {
              "outlinewidth": 0,
              "ticks": ""
             }
            },
            "type": "scatter"
           }
          ],
          "scatter3d": [
           {
            "line": {
             "colorbar": {
              "outlinewidth": 0,
              "ticks": ""
             }
            },
            "marker": {
             "colorbar": {
              "outlinewidth": 0,
              "ticks": ""
             }
            },
            "type": "scatter3d"
           }
          ],
          "scattercarpet": [
           {
            "marker": {
             "colorbar": {
              "outlinewidth": 0,
              "ticks": ""
             }
            },
            "type": "scattercarpet"
           }
          ],
          "scattergeo": [
           {
            "marker": {
             "colorbar": {
              "outlinewidth": 0,
              "ticks": ""
             }
            },
            "type": "scattergeo"
           }
          ],
          "scattergl": [
           {
            "marker": {
             "colorbar": {
              "outlinewidth": 0,
              "ticks": ""
             }
            },
            "type": "scattergl"
           }
          ],
          "scattermapbox": [
           {
            "marker": {
             "colorbar": {
              "outlinewidth": 0,
              "ticks": ""
             }
            },
            "type": "scattermapbox"
           }
          ],
          "scatterpolar": [
           {
            "marker": {
             "colorbar": {
              "outlinewidth": 0,
              "ticks": ""
             }
            },
            "type": "scatterpolar"
           }
          ],
          "scatterpolargl": [
           {
            "marker": {
             "colorbar": {
              "outlinewidth": 0,
              "ticks": ""
             }
            },
            "type": "scatterpolargl"
           }
          ],
          "scatterternary": [
           {
            "marker": {
             "colorbar": {
              "outlinewidth": 0,
              "ticks": ""
             }
            },
            "type": "scatterternary"
           }
          ],
          "surface": [
           {
            "colorbar": {
             "outlinewidth": 0,
             "ticks": ""
            },
            "colorscale": [
             [
              0,
              "#0d0887"
             ],
             [
              0.1111111111111111,
              "#46039f"
             ],
             [
              0.2222222222222222,
              "#7201a8"
             ],
             [
              0.3333333333333333,
              "#9c179e"
             ],
             [
              0.4444444444444444,
              "#bd3786"
             ],
             [
              0.5555555555555556,
              "#d8576b"
             ],
             [
              0.6666666666666666,
              "#ed7953"
             ],
             [
              0.7777777777777778,
              "#fb9f3a"
             ],
             [
              0.8888888888888888,
              "#fdca26"
             ],
             [
              1,
              "#f0f921"
             ]
            ],
            "type": "surface"
           }
          ],
          "table": [
           {
            "cells": {
             "fill": {
              "color": "#EBF0F8"
             },
             "line": {
              "color": "white"
             }
            },
            "header": {
             "fill": {
              "color": "#C8D4E3"
             },
             "line": {
              "color": "white"
             }
            },
            "type": "table"
           }
          ]
         },
         "layout": {
          "annotationdefaults": {
           "arrowcolor": "#2a3f5f",
           "arrowhead": 0,
           "arrowwidth": 1
          },
          "coloraxis": {
           "colorbar": {
            "outlinewidth": 0,
            "ticks": ""
           }
          },
          "colorscale": {
           "diverging": [
            [
             0,
             "#8e0152"
            ],
            [
             0.1,
             "#c51b7d"
            ],
            [
             0.2,
             "#de77ae"
            ],
            [
             0.3,
             "#f1b6da"
            ],
            [
             0.4,
             "#fde0ef"
            ],
            [
             0.5,
             "#f7f7f7"
            ],
            [
             0.6,
             "#e6f5d0"
            ],
            [
             0.7,
             "#b8e186"
            ],
            [
             0.8,
             "#7fbc41"
            ],
            [
             0.9,
             "#4d9221"
            ],
            [
             1,
             "#276419"
            ]
           ],
           "sequential": [
            [
             0,
             "#0d0887"
            ],
            [
             0.1111111111111111,
             "#46039f"
            ],
            [
             0.2222222222222222,
             "#7201a8"
            ],
            [
             0.3333333333333333,
             "#9c179e"
            ],
            [
             0.4444444444444444,
             "#bd3786"
            ],
            [
             0.5555555555555556,
             "#d8576b"
            ],
            [
             0.6666666666666666,
             "#ed7953"
            ],
            [
             0.7777777777777778,
             "#fb9f3a"
            ],
            [
             0.8888888888888888,
             "#fdca26"
            ],
            [
             1,
             "#f0f921"
            ]
           ],
           "sequentialminus": [
            [
             0,
             "#0d0887"
            ],
            [
             0.1111111111111111,
             "#46039f"
            ],
            [
             0.2222222222222222,
             "#7201a8"
            ],
            [
             0.3333333333333333,
             "#9c179e"
            ],
            [
             0.4444444444444444,
             "#bd3786"
            ],
            [
             0.5555555555555556,
             "#d8576b"
            ],
            [
             0.6666666666666666,
             "#ed7953"
            ],
            [
             0.7777777777777778,
             "#fb9f3a"
            ],
            [
             0.8888888888888888,
             "#fdca26"
            ],
            [
             1,
             "#f0f921"
            ]
           ]
          },
          "colorway": [
           "#636efa",
           "#EF553B",
           "#00cc96",
           "#ab63fa",
           "#FFA15A",
           "#19d3f3",
           "#FF6692",
           "#B6E880",
           "#FF97FF",
           "#FECB52"
          ],
          "font": {
           "color": "#2a3f5f"
          },
          "geo": {
           "bgcolor": "white",
           "lakecolor": "white",
           "landcolor": "#E5ECF6",
           "showlakes": true,
           "showland": true,
           "subunitcolor": "white"
          },
          "hoverlabel": {
           "align": "left"
          },
          "hovermode": "closest",
          "mapbox": {
           "style": "light"
          },
          "paper_bgcolor": "white",
          "plot_bgcolor": "#E5ECF6",
          "polar": {
           "angularaxis": {
            "gridcolor": "white",
            "linecolor": "white",
            "ticks": ""
           },
           "bgcolor": "#E5ECF6",
           "radialaxis": {
            "gridcolor": "white",
            "linecolor": "white",
            "ticks": ""
           }
          },
          "scene": {
           "xaxis": {
            "backgroundcolor": "#E5ECF6",
            "gridcolor": "white",
            "gridwidth": 2,
            "linecolor": "white",
            "showbackground": true,
            "ticks": "",
            "zerolinecolor": "white"
           },
           "yaxis": {
            "backgroundcolor": "#E5ECF6",
            "gridcolor": "white",
            "gridwidth": 2,
            "linecolor": "white",
            "showbackground": true,
            "ticks": "",
            "zerolinecolor": "white"
           },
           "zaxis": {
            "backgroundcolor": "#E5ECF6",
            "gridcolor": "white",
            "gridwidth": 2,
            "linecolor": "white",
            "showbackground": true,
            "ticks": "",
            "zerolinecolor": "white"
           }
          },
          "shapedefaults": {
           "line": {
            "color": "#2a3f5f"
           }
          },
          "ternary": {
           "aaxis": {
            "gridcolor": "white",
            "linecolor": "white",
            "ticks": ""
           },
           "baxis": {
            "gridcolor": "white",
            "linecolor": "white",
            "ticks": ""
           },
           "bgcolor": "#E5ECF6",
           "caxis": {
            "gridcolor": "white",
            "linecolor": "white",
            "ticks": ""
           }
          },
          "title": {
           "x": 0.05
          },
          "xaxis": {
           "automargin": true,
           "gridcolor": "white",
           "linecolor": "white",
           "ticks": "",
           "title": {
            "standoff": 15
           },
           "zerolinecolor": "white",
           "zerolinewidth": 2
          },
          "yaxis": {
           "automargin": true,
           "gridcolor": "white",
           "linecolor": "white",
           "ticks": "",
           "title": {
            "standoff": 15
           },
           "zerolinecolor": "white",
           "zerolinewidth": 2
          }
         }
        },
        "xaxis": {
         "anchor": "y",
         "domain": [
          0,
          1
         ],
         "title": {
          "text": "x"
         }
        },
        "yaxis": {
         "anchor": "x",
         "domain": [
          0,
          1
         ],
         "title": {
          "text": "y"
         }
        }
       }
      }
     },
     "metadata": {}
    }
   ],
   "source": [
    "fig = pe.line(x=range(len(best_pop)), y=[ indvdl.fitness for indvdl in best_pop])\n",
    "fig.show()"
   ]
  }
 ]
}